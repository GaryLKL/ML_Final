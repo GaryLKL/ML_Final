{
 "cells": [
  {
   "cell_type": "markdown",
   "metadata": {},
   "source": [
    "# DS-GA 1003 Machine Learning\n",
    "\n",
    "Student Name: Kuan-Lin Liu"
   ]
  },
  {
   "cell_type": "markdown",
   "metadata": {},
   "source": [
    "## 1. Packages"
   ]
  },
  {
   "cell_type": "code",
   "execution_count": 16,
   "metadata": {
    "ExecuteTime": {
     "end_time": "2020-05-16T15:29:05.633603Z",
     "start_time": "2020-05-16T15:29:05.631673Z"
    }
   },
   "outputs": [
    {
     "name": "stdout",
     "output_type": "stream",
     "text": [
      "Requirement already satisfied: joblib in /scratch/kll482/anaconda3/envs/py36/lib/python3.6/site-packages (0.15.1)\r\n"
     ]
    }
   ],
   "source": [
    "# python 3.6\n",
    "#!pip install -r requirements.txt\n",
    "#!pip install joblib"
   ]
  },
  {
   "cell_type": "code",
   "execution_count": 2,
   "metadata": {
    "ExecuteTime": {
     "end_time": "2020-05-16T16:15:55.145619Z",
     "start_time": "2020-05-16T16:15:54.003100Z"
    }
   },
   "outputs": [],
   "source": [
    "import pandas as pd, numpy as np\n",
    "import matplotlib.pyplot as plt\n",
    "import joblib\n",
    "import seaborn as sns\n",
    "import json\n",
    "import tqdm\n",
    "from collections import Counter\n",
    "from time import time\n",
    "\n",
    "%matplotlib inline"
   ]
  },
  {
   "cell_type": "markdown",
   "metadata": {
    "ExecuteTime": {
     "end_time": "2020-05-03T15:50:10.241059Z",
     "start_time": "2020-05-03T15:50:10.238971Z"
    }
   },
   "source": [
    "## 2. Read Data"
   ]
  },
  {
   "cell_type": "code",
   "execution_count": 28,
   "metadata": {
    "ExecuteTime": {
     "end_time": "2020-05-16T16:15:58.782728Z",
     "start_time": "2020-05-16T16:15:58.780574Z"
    }
   },
   "outputs": [],
   "source": [
    "data_path = \"fake-reviews/\""
   ]
  },
  {
   "cell_type": "code",
   "execution_count": 29,
   "metadata": {
    "ExecuteTime": {
     "end_time": "2020-05-16T16:16:01.415319Z",
     "start_time": "2020-05-16T16:15:59.056032Z"
    }
   },
   "outputs": [
    {
     "data": {
      "text/html": [
       "<div>\n",
       "<style scoped>\n",
       "    .dataframe tbody tr th:only-of-type {\n",
       "        vertical-align: middle;\n",
       "    }\n",
       "\n",
       "    .dataframe tbody tr th {\n",
       "        vertical-align: top;\n",
       "    }\n",
       "\n",
       "    .dataframe thead th {\n",
       "        text-align: right;\n",
       "    }\n",
       "</style>\n",
       "<table border=\"1\" class=\"dataframe\">\n",
       "  <thead>\n",
       "    <tr style=\"text-align: right;\">\n",
       "      <th></th>\n",
       "      <th>ex_id</th>\n",
       "      <th>user_id</th>\n",
       "      <th>prod_id</th>\n",
       "      <th>rating</th>\n",
       "      <th>label</th>\n",
       "      <th>date</th>\n",
       "      <th>review</th>\n",
       "    </tr>\n",
       "  </thead>\n",
       "  <tbody>\n",
       "    <tr>\n",
       "      <th>0</th>\n",
       "      <td>0</td>\n",
       "      <td>923</td>\n",
       "      <td>0</td>\n",
       "      <td>3.0</td>\n",
       "      <td>1</td>\n",
       "      <td>2014-12-08</td>\n",
       "      <td>The food at snack is a selection of popular Gr...</td>\n",
       "    </tr>\n",
       "    <tr>\n",
       "      <th>1</th>\n",
       "      <td>1</td>\n",
       "      <td>924</td>\n",
       "      <td>0</td>\n",
       "      <td>3.0</td>\n",
       "      <td>1</td>\n",
       "      <td>2013-05-16</td>\n",
       "      <td>This little place in Soho is wonderful. I had ...</td>\n",
       "    </tr>\n",
       "    <tr>\n",
       "      <th>2</th>\n",
       "      <td>2</td>\n",
       "      <td>925</td>\n",
       "      <td>0</td>\n",
       "      <td>4.0</td>\n",
       "      <td>1</td>\n",
       "      <td>2013-07-01</td>\n",
       "      <td>ordered lunch for 15 from Snack last Friday.  ...</td>\n",
       "    </tr>\n",
       "    <tr>\n",
       "      <th>3</th>\n",
       "      <td>3</td>\n",
       "      <td>926</td>\n",
       "      <td>0</td>\n",
       "      <td>4.0</td>\n",
       "      <td>1</td>\n",
       "      <td>2011-07-28</td>\n",
       "      <td>This is a beautiful quaint little restaurant o...</td>\n",
       "    </tr>\n",
       "    <tr>\n",
       "      <th>4</th>\n",
       "      <td>4</td>\n",
       "      <td>927</td>\n",
       "      <td>0</td>\n",
       "      <td>4.0</td>\n",
       "      <td>1</td>\n",
       "      <td>2010-11-01</td>\n",
       "      <td>Snack is great place for a  casual sit down lu...</td>\n",
       "    </tr>\n",
       "  </tbody>\n",
       "</table>\n",
       "</div>"
      ],
      "text/plain": [
       "   ex_id  user_id  prod_id  rating  label        date  \\\n",
       "0      0      923        0     3.0      1  2014-12-08   \n",
       "1      1      924        0     3.0      1  2013-05-16   \n",
       "2      2      925        0     4.0      1  2013-07-01   \n",
       "3      3      926        0     4.0      1  2011-07-28   \n",
       "4      4      927        0     4.0      1  2010-11-01   \n",
       "\n",
       "                                              review  \n",
       "0  The food at snack is a selection of popular Gr...  \n",
       "1  This little place in Soho is wonderful. I had ...  \n",
       "2  ordered lunch for 15 from Snack last Friday.  ...  \n",
       "3  This is a beautiful quaint little restaurant o...  \n",
       "4  Snack is great place for a  casual sit down lu...  "
      ]
     },
     "execution_count": 29,
     "metadata": {},
     "output_type": "execute_result"
    }
   ],
   "source": [
    "train = pd.read_csv(data_path+\"train.csv\")\n",
    "val = pd.read_csv(data_path+\"dev.csv\")\n",
    "test = pd.read_csv(data_path+\"test.csv\")\n",
    "train.head()"
   ]
  },
  {
   "cell_type": "code",
   "execution_count": 30,
   "metadata": {},
   "outputs": [
    {
     "data": {
      "text/html": [
       "<div>\n",
       "<style scoped>\n",
       "    .dataframe tbody tr th:only-of-type {\n",
       "        vertical-align: middle;\n",
       "    }\n",
       "\n",
       "    .dataframe tbody tr th {\n",
       "        vertical-align: top;\n",
       "    }\n",
       "\n",
       "    .dataframe thead th {\n",
       "        text-align: right;\n",
       "    }\n",
       "</style>\n",
       "<table border=\"1\" class=\"dataframe\">\n",
       "  <thead>\n",
       "    <tr style=\"text-align: right;\">\n",
       "      <th></th>\n",
       "      <th>ex_id</th>\n",
       "      <th>user_id</th>\n",
       "      <th>prod_id</th>\n",
       "      <th>rating</th>\n",
       "      <th>label</th>\n",
       "      <th>date</th>\n",
       "      <th>review</th>\n",
       "    </tr>\n",
       "  </thead>\n",
       "  <tbody>\n",
       "  </tbody>\n",
       "</table>\n",
       "</div>"
      ],
      "text/plain": [
       "Empty DataFrame\n",
       "Columns: [ex_id, user_id, prod_id, rating, label, date, review]\n",
       "Index: []"
      ]
     },
     "execution_count": 30,
     "metadata": {},
     "output_type": "execute_result"
    }
   ],
   "source": [
    "val[val[\"review\"].apply(lambda x: len(x)==0)]"
   ]
  },
  {
   "cell_type": "code",
   "execution_count": 31,
   "metadata": {},
   "outputs": [
    {
     "data": {
      "text/html": [
       "<div>\n",
       "<style scoped>\n",
       "    .dataframe tbody tr th:only-of-type {\n",
       "        vertical-align: middle;\n",
       "    }\n",
       "\n",
       "    .dataframe tbody tr th {\n",
       "        vertical-align: top;\n",
       "    }\n",
       "\n",
       "    .dataframe thead th {\n",
       "        text-align: right;\n",
       "    }\n",
       "</style>\n",
       "<table border=\"1\" class=\"dataframe\">\n",
       "  <thead>\n",
       "    <tr style=\"text-align: right;\">\n",
       "      <th></th>\n",
       "      <th>ex_id</th>\n",
       "      <th>user_id</th>\n",
       "      <th>prod_id</th>\n",
       "      <th>rating</th>\n",
       "      <th>label</th>\n",
       "      <th>date</th>\n",
       "      <th>review</th>\n",
       "    </tr>\n",
       "  </thead>\n",
       "  <tbody>\n",
       "    <tr>\n",
       "      <th>0</th>\n",
       "      <td>6</td>\n",
       "      <td>929</td>\n",
       "      <td>0</td>\n",
       "      <td>4.0</td>\n",
       "      <td>NaN</td>\n",
       "      <td>2009-08-25</td>\n",
       "      <td>Let me start with a shout-out to everyone who ...</td>\n",
       "    </tr>\n",
       "    <tr>\n",
       "      <th>1</th>\n",
       "      <td>9</td>\n",
       "      <td>932</td>\n",
       "      <td>0</td>\n",
       "      <td>5.0</td>\n",
       "      <td>NaN</td>\n",
       "      <td>2014-05-09</td>\n",
       "      <td>Stopped in for lunch today and couldn't believ...</td>\n",
       "    </tr>\n",
       "    <tr>\n",
       "      <th>2</th>\n",
       "      <td>14</td>\n",
       "      <td>937</td>\n",
       "      <td>0</td>\n",
       "      <td>4.0</td>\n",
       "      <td>NaN</td>\n",
       "      <td>2014-10-15</td>\n",
       "      <td>Tiny little place, but very good food. Pastits...</td>\n",
       "    </tr>\n",
       "    <tr>\n",
       "      <th>3</th>\n",
       "      <td>22</td>\n",
       "      <td>945</td>\n",
       "      <td>0</td>\n",
       "      <td>5.0</td>\n",
       "      <td>NaN</td>\n",
       "      <td>2014-04-10</td>\n",
       "      <td>Food was delicious and service was great. Good...</td>\n",
       "    </tr>\n",
       "    <tr>\n",
       "      <th>4</th>\n",
       "      <td>23</td>\n",
       "      <td>946</td>\n",
       "      <td>0</td>\n",
       "      <td>5.0</td>\n",
       "      <td>NaN</td>\n",
       "      <td>2014-03-29</td>\n",
       "      <td>Awesome hole in the wall place to grab a quick...</td>\n",
       "    </tr>\n",
       "  </tbody>\n",
       "</table>\n",
       "</div>"
      ],
      "text/plain": [
       "   ex_id  user_id  prod_id  rating  label        date  \\\n",
       "0      6      929        0     4.0    NaN  2009-08-25   \n",
       "1      9      932        0     5.0    NaN  2014-05-09   \n",
       "2     14      937        0     4.0    NaN  2014-10-15   \n",
       "3     22      945        0     5.0    NaN  2014-04-10   \n",
       "4     23      946        0     5.0    NaN  2014-03-29   \n",
       "\n",
       "                                              review  \n",
       "0  Let me start with a shout-out to everyone who ...  \n",
       "1  Stopped in for lunch today and couldn't believ...  \n",
       "2  Tiny little place, but very good food. Pastits...  \n",
       "3  Food was delicious and service was great. Good...  \n",
       "4  Awesome hole in the wall place to grab a quick...  "
      ]
     },
     "execution_count": 31,
     "metadata": {},
     "output_type": "execute_result"
    }
   ],
   "source": [
    "test.head()"
   ]
  },
  {
   "cell_type": "markdown",
   "metadata": {},
   "source": [
    "Merge train and val datasets for exploration."
   ]
  },
  {
   "cell_type": "code",
   "execution_count": 32,
   "metadata": {
    "ExecuteTime": {
     "end_time": "2020-05-16T16:16:04.907883Z",
     "start_time": "2020-05-16T16:16:04.858488Z"
    }
   },
   "outputs": [],
   "source": [
    "data = pd.concat([train, val]).reset_index(drop=True)"
   ]
  },
  {
   "cell_type": "code",
   "execution_count": 66,
   "metadata": {},
   "outputs": [],
   "source": [
    "temp_full_data = pd.concat([data, test]).reset_index(drop=True)"
   ]
  },
  {
   "cell_type": "markdown",
   "metadata": {},
   "source": [
    "Create a column representing train, val,  and test in full_data.\n",
    "\n",
    "Create a row index column"
   ]
  },
  {
   "cell_type": "code",
   "execution_count": 51,
   "metadata": {},
   "outputs": [],
   "source": [
    "#len_train, len_val, len_test = len(train), len(val), len(test)\n",
    "#full_data[\"datagroup\"] = np.array([0]*len_train + [1]*len(val) + [2]*len(test))\n",
    "full_data[\"row_id\"] = range(len(full_data))"
   ]
  },
  {
   "cell_type": "code",
   "execution_count": 29,
   "metadata": {
    "ExecuteTime": {
     "end_time": "2020-05-07T10:38:41.475828Z",
     "start_time": "2020-05-07T10:38:41.471122Z"
    }
   },
   "outputs": [
    {
     "name": "stdout",
     "output_type": "stream",
     "text": [
      "Full data dimension: (358957, 10)\n",
      "train+val data dimension: (286792, 7)\n",
      "Training data dimension: (250874, 7)\n",
      "Validation data dimension: (35918, 7)\n",
      "Test data dimension: (72165, 7)\n",
      "---\n",
      "ex_id        int64\n",
      "user_id      int64\n",
      "prod_id      int64\n",
      "rating     float64\n",
      "label        int64\n",
      "date        object\n",
      "review      object\n",
      "dtype: object\n"
     ]
    }
   ],
   "source": [
    "print(\"Full data dimension: {}\".format(full_data.shape))\n",
    "print(\"train+val data dimension: {}\".format(data.shape))\n",
    "print(\"Training data dimension: {}\".format(train.shape))\n",
    "print(\"Validation data dimension: {}\".format(val.shape))\n",
    "print(\"Test data dimension: {}\".format(test.shape))\n",
    "print(\"---\")\n",
    "print(data.dtypes)"
   ]
  },
  {
   "cell_type": "code",
   "execution_count": 81,
   "metadata": {},
   "outputs": [
    {
     "data": {
      "text/html": [
       "<div>\n",
       "<style scoped>\n",
       "    .dataframe tbody tr th:only-of-type {\n",
       "        vertical-align: middle;\n",
       "    }\n",
       "\n",
       "    .dataframe tbody tr th {\n",
       "        vertical-align: top;\n",
       "    }\n",
       "\n",
       "    .dataframe thead th {\n",
       "        text-align: right;\n",
       "    }\n",
       "</style>\n",
       "<table border=\"1\" class=\"dataframe\">\n",
       "  <thead>\n",
       "    <tr style=\"text-align: right;\">\n",
       "      <th></th>\n",
       "      <th>ex_id</th>\n",
       "      <th>user_id</th>\n",
       "      <th>prod_id</th>\n",
       "      <th>rating</th>\n",
       "      <th>label</th>\n",
       "      <th>date</th>\n",
       "      <th>review</th>\n",
       "    </tr>\n",
       "  </thead>\n",
       "  <tbody>\n",
       "    <tr>\n",
       "      <th>0</th>\n",
       "      <td>0</td>\n",
       "      <td>923</td>\n",
       "      <td>0</td>\n",
       "      <td>3.0</td>\n",
       "      <td>1</td>\n",
       "      <td>2014-12-08</td>\n",
       "      <td>The food at snack is a selection of popular Gr...</td>\n",
       "    </tr>\n",
       "    <tr>\n",
       "      <th>1</th>\n",
       "      <td>1</td>\n",
       "      <td>924</td>\n",
       "      <td>0</td>\n",
       "      <td>3.0</td>\n",
       "      <td>1</td>\n",
       "      <td>2013-05-16</td>\n",
       "      <td>This little place in Soho is wonderful. I had ...</td>\n",
       "    </tr>\n",
       "    <tr>\n",
       "      <th>2</th>\n",
       "      <td>2</td>\n",
       "      <td>925</td>\n",
       "      <td>0</td>\n",
       "      <td>4.0</td>\n",
       "      <td>1</td>\n",
       "      <td>2013-07-01</td>\n",
       "      <td>ordered lunch for 15 from Snack last Friday.  ...</td>\n",
       "    </tr>\n",
       "    <tr>\n",
       "      <th>3</th>\n",
       "      <td>3</td>\n",
       "      <td>926</td>\n",
       "      <td>0</td>\n",
       "      <td>4.0</td>\n",
       "      <td>1</td>\n",
       "      <td>2011-07-28</td>\n",
       "      <td>This is a beautiful quaint little restaurant o...</td>\n",
       "    </tr>\n",
       "    <tr>\n",
       "      <th>4</th>\n",
       "      <td>4</td>\n",
       "      <td>927</td>\n",
       "      <td>0</td>\n",
       "      <td>4.0</td>\n",
       "      <td>1</td>\n",
       "      <td>2010-11-01</td>\n",
       "      <td>Snack is great place for a  casual sit down lu...</td>\n",
       "    </tr>\n",
       "  </tbody>\n",
       "</table>\n",
       "</div>"
      ],
      "text/plain": [
       "   ex_id  user_id  prod_id  rating  label        date  \\\n",
       "0      0      923        0     3.0      1  2014-12-08   \n",
       "1      1      924        0     3.0      1  2013-05-16   \n",
       "2      2      925        0     4.0      1  2013-07-01   \n",
       "3      3      926        0     4.0      1  2011-07-28   \n",
       "4      4      927        0     4.0      1  2010-11-01   \n",
       "\n",
       "                                              review  \n",
       "0  The food at snack is a selection of popular Gr...  \n",
       "1  This little place in Soho is wonderful. I had ...  \n",
       "2  ordered lunch for 15 from Snack last Friday.  ...  \n",
       "3  This is a beautiful quaint little restaurant o...  \n",
       "4  Snack is great place for a  casual sit down lu...  "
      ]
     },
     "execution_count": 81,
     "metadata": {},
     "output_type": "execute_result"
    }
   ],
   "source": [
    "train.head()"
   ]
  },
  {
   "cell_type": "markdown",
   "metadata": {
    "ExecuteTime": {
     "end_time": "2020-05-07T10:39:06.676630Z",
     "start_time": "2020-05-07T10:39:06.672719Z"
    }
   },
   "source": [
    "The training data contains <font color='blue'>250,874</font> rows and the testing data contains <font color='blue'>35,918</font> rows. They both have <font color='blue'>7</font> columns."
   ]
  },
  {
   "cell_type": "code",
   "execution_count": 97,
   "metadata": {},
   "outputs": [],
   "source": [
    "#train.to_json(\"train.json\", orient=\"records\")"
   ]
  },
  {
   "cell_type": "code",
   "execution_count": 98,
   "metadata": {},
   "outputs": [],
   "source": [
    "#val.to_json(\"dev.json\", orient=\"records\")"
   ]
  },
  {
   "cell_type": "code",
   "execution_count": 9,
   "metadata": {},
   "outputs": [],
   "source": [
    "#test.to_json(\"test.json\", orient=\"records\")"
   ]
  },
  {
   "cell_type": "markdown",
   "metadata": {},
   "source": [
    "## 3. Exploration"
   ]
  },
  {
   "cell_type": "markdown",
   "metadata": {},
   "source": [
    "### 3.1. What is ex_id?"
   ]
  },
  {
   "cell_type": "markdown",
   "metadata": {},
   "source": [
    "From the length of the unique data in ex_id, I guess it represents an index of the row.\n",
    "\n",
    "Besides, I guess user_id and prod_id mean the index of users and products (items)."
   ]
  },
  {
   "cell_type": "code",
   "execution_count": 31,
   "metadata": {
    "ExecuteTime": {
     "end_time": "2020-05-07T10:48:19.024506Z",
     "start_time": "2020-05-07T10:48:18.999207Z"
    }
   },
   "outputs": [
    {
     "name": "stdout",
     "output_type": "stream",
     "text": [
      "Length of Unique Rows:\n",
      "ex_id: 286792\n",
      "user_id: 137692\n",
      "prod_id: 923\n",
      "rating: 5\n",
      "label: 2\n"
     ]
    }
   ],
   "source": [
    "def unique_data_len(data, col_name):\n",
    "    return data[col_name].unique().__len__()\n",
    "\n",
    "print(\"Length of Unique Rows:\")\n",
    "for col in [\"ex_id\", \"user_id\", \"prod_id\", \"rating\", \"label\"]:\n",
    "    print(col + \": {}\".format(unique_data_len(data, col)))"
   ]
  },
  {
   "cell_type": "markdown",
   "metadata": {},
   "source": [
    "### 3.2. Rating"
   ]
  },
  {
   "cell_type": "markdown",
   "metadata": {},
   "source": [
    "The \"rating\" column has 5 unique classes, 1 to 5.\n",
    "\n",
    "Most people gave positive ratings, 4 and 5."
   ]
  },
  {
   "cell_type": "code",
   "execution_count": 42,
   "metadata": {
    "ExecuteTime": {
     "end_time": "2020-05-07T12:03:51.434356Z",
     "start_time": "2020-05-07T12:03:51.423366Z"
    }
   },
   "outputs": [
    {
     "name": "stdout",
     "output_type": "stream",
     "text": [
      "     rating\n",
      "5.0  112518\n",
      "4.0  108145\n",
      "3.0   38026\n",
      "2.0   16603\n",
      "1.0   11500\n"
     ]
    }
   ],
   "source": [
    "rating_count = pd.DataFrame(data[\"rating\"].value_counts())\n",
    "print(rating_count)"
   ]
  },
  {
   "cell_type": "code",
   "execution_count": 58,
   "metadata": {},
   "outputs": [
    {
     "data": {
      "text/plain": [
       "0.7694182543446121"
      ]
     },
     "execution_count": 58,
     "metadata": {},
     "output_type": "execute_result"
    }
   ],
   "source": [
    "sum(data[\"rating\"]>=4)/len(data)"
   ]
  },
  {
   "cell_type": "code",
   "execution_count": 51,
   "metadata": {
    "ExecuteTime": {
     "end_time": "2020-05-07T12:05:18.296190Z",
     "start_time": "2020-05-07T12:05:18.137528Z"
    }
   },
   "outputs": [
    {
     "data": {
      "image/png": "[encoded data removed]",
      "text/plain": [
       "<Figure size 432x288 with 1 Axes>"
      ]
     },
     "metadata": {
      "needs_background": "light"
     },
     "output_type": "display_data"
    }
   ],
   "source": [
    "# fig = plt.figure(figsize=(5, 3))\n",
    "sns.barplot(x=rating_count.index, y=rating_count[\"rating\"])\n",
    "plt.xlabel(\"rating\", fontsize=14)\n",
    "plt.ylabel(\"count\", fontsize=14)\n",
    "plt.tight_layout()\n",
    "# plt.savefig(\"fake-reviews/visualization/rating_count.png\")"
   ]
  },
  {
   "cell_type": "markdown",
   "metadata": {
    "ExecuteTime": {
     "end_time": "2020-05-07T12:05:03.739848Z",
     "start_time": "2020-05-07T12:05:03.735969Z"
    }
   },
   "source": [
    "### 3.3. Review"
   ]
  },
  {
   "cell_type": "markdown",
   "metadata": {},
   "source": [
    "The maximal length of reviews is 29012. The minimum is 1."
   ]
  },
  {
   "cell_type": "code",
   "execution_count": 54,
   "metadata": {
    "ExecuteTime": {
     "end_time": "2020-05-07T12:08:47.536483Z",
     "start_time": "2020-05-07T12:08:47.227933Z"
    }
   },
   "outputs": [
    {
     "name": "stdout",
     "output_type": "stream",
     "text": [
      "29012\n",
      "1\n"
     ]
    }
   ],
   "source": [
    "print(data[\"review\"].apply(lambda row: len(row)).max())\n",
    "print(data[\"review\"].apply(lambda row: len(row)).min())"
   ]
  },
  {
   "cell_type": "markdown",
   "metadata": {
    "ExecuteTime": {
     "end_time": "2020-05-07T12:10:57.972468Z",
     "start_time": "2020-05-07T12:10:57.969385Z"
    }
   },
   "source": [
    "The length of reviews has a left-skewed distribution."
   ]
  },
  {
   "cell_type": "code",
   "execution_count": 62,
   "metadata": {
    "ExecuteTime": {
     "end_time": "2020-05-07T12:12:47.371991Z",
     "start_time": "2020-05-07T12:12:46.304789Z"
    }
   },
   "outputs": [
    {
     "data": {
      "text/plain": [
       "<matplotlib.axes._subplots.AxesSubplot at 0x7ff44aff6dd8>"
      ]
     },
     "execution_count": 62,
     "metadata": {},
     "output_type": "execute_result"
    },
    {
     "data": {
      "image/png": "[encoded data removed]",
      "text/plain": [
       "<Figure size 432x288 with 1 Axes>"
      ]
     },
     "metadata": {
      "needs_background": "light"
     },
     "output_type": "display_data"
    }
   ],
   "source": [
    "sns.distplot(\n",
    "    data[\"review\"].apply(lambda row: len(row)),\n",
    "    bins = 500\n",
    ")"
   ]
  },
  {
   "cell_type": "markdown",
   "metadata": {},
   "source": [
    "### 3.4. Label"
   ]
  },
  {
   "cell_type": "code",
   "execution_count": 40,
   "metadata": {},
   "outputs": [
    {
     "data": {
      "text/plain": [
       "0.1027469385477977"
      ]
     },
     "execution_count": 40,
     "metadata": {},
     "output_type": "execute_result"
    }
   ],
   "source": [
    "sum(data[\"label\"]==1)/len(data)"
   ]
  },
  {
   "cell_type": "code",
   "execution_count": 36,
   "metadata": {
    "ExecuteTime": {
     "end_time": "2020-05-08T14:37:51.899196Z",
     "start_time": "2020-05-08T14:37:51.765547Z"
    }
   },
   "outputs": [
    {
     "data": {
      "text/plain": [
       "Text(0, 0.5, 'count')"
      ]
     },
     "execution_count": 36,
     "metadata": {},
     "output_type": "execute_result"
    },
    {
     "data": {
      "image/png": "[encoded data removed]",
      "text/plain": [
       "<Figure size 432x288 with 1 Axes>"
      ]
     },
     "metadata": {
      "needs_background": "light"
     },
     "output_type": "display_data"
    }
   ],
   "source": [
    "sns.barplot(x=data[\"label\"].value_counts().index, y=data[\"label\"].value_counts().values)\n",
    "plt.xlabel(\"label\", fontsize=14)\n",
    "plt.ylabel(\"count\", fontsize=14)\n",
    "# plt.savefig(\"fake-reviews/visualization/label.png\")"
   ]
  },
  {
   "cell_type": "markdown",
   "metadata": {},
   "source": [
    "### 3.5. Label Vs. Rating"
   ]
  },
  {
   "cell_type": "code",
   "execution_count": 57,
   "metadata": {
    "ExecuteTime": {
     "end_time": "2020-05-08T14:47:48.597153Z",
     "start_time": "2020-05-08T14:47:48.420939Z"
    }
   },
   "outputs": [
    {
     "data": {
      "image/png": "[encoded data removed]",
      "text/plain": [
       "<Figure size 432x288 with 1 Axes>"
      ]
     },
     "metadata": {
      "needs_background": "light"
     },
     "output_type": "display_data"
    }
   ],
   "source": [
    "sns.countplot(x=data[\"rating\"], hue=data[\"label\"])\n",
    "plt.xlabel(\"rating\", fontsize=15)\n",
    "plt.ylabel(\"count\", fontsize=15)\n",
    "plt.legend(title=\"label\", title_fontsize=13)\n",
    "plt.tight_layout()\n",
    "# plt.savefig(\"fake-reviews/visualization/rating-label.png\")"
   ]
  },
  {
   "cell_type": "markdown",
   "metadata": {},
   "source": [
    "### 3.6. Review Length"
   ]
  },
  {
   "cell_type": "code",
   "execution_count": 62,
   "metadata": {},
   "outputs": [],
   "source": [
    "data[\"review_len\"] = data[\"review\"].apply(lambda row: len(row))"
   ]
  },
  {
   "cell_type": "markdown",
   "metadata": {},
   "source": [
    "Remove review_len > 3000"
   ]
  },
  {
   "cell_type": "code",
   "execution_count": 69,
   "metadata": {
    "ExecuteTime": {
     "end_time": "2020-05-17T06:25:35.294780Z",
     "start_time": "2020-05-17T06:25:34.817592Z"
    }
   },
   "outputs": [
    {
     "data": {
      "image/png": "[encoded data removed]",
      "text/plain": [
       "<Figure size 432x288 with 1 Axes>"
      ]
     },
     "metadata": {
      "needs_background": "light"
     },
     "output_type": "display_data"
    }
   ],
   "source": [
    "sns.distplot(data.loc[(data[\"review_len\"]<3000) & (data[\"label\"]==1),\"review_len\"], label=\"label: 1\")\n",
    "sns.distplot(data.loc[(data[\"review_len\"]<3000) & (data[\"label\"]==0),\"review_len\"], label=\"label: 0\")\n",
    "plt.xlabel(\"length of review\", fontsize=15)\n",
    "plt.ylabel(\"count\", fontsize=15)\n",
    "plt.legend(title=\"label\", labels=[\"0\", \"1\"], title_fontsize=13)\n",
    "plt.tight_layout()\n",
    "# plt.savefig(\"fake-reviews/visualization/review-length.png\")"
   ]
  },
  {
   "cell_type": "markdown",
   "metadata": {},
   "source": [
    "## 4. Feature Engineering"
   ]
  },
  {
   "cell_type": "markdown",
   "metadata": {},
   "source": [
    "We will create new features with train, val, and test sets together."
   ]
  },
  {
   "cell_type": "markdown",
   "metadata": {},
   "source": [
    "- Reviews Length Vs. Label"
   ]
  },
  {
   "cell_type": "code",
   "execution_count": null,
   "metadata": {},
   "outputs": [],
   "source": [
    "full_data[\"review_len\"] = full_data[\"review\"].apply(lambda row: len(row))"
   ]
  },
  {
   "cell_type": "markdown",
   "metadata": {},
   "source": [
    "- date_in and date_offset"
   ]
  },
  {
   "cell_type": "code",
   "execution_count": 53,
   "metadata": {},
   "outputs": [],
   "source": [
    "# 2014-12-08 (object) => 20141208 (int)\n",
    "full_data[\"date_int\"] = pd.to_datetime(full_data[\"date\"]).dt.strftime(\"%Y%m%d\").apply(pd.to_numeric)\n",
    "# How many seconds have passed since 1970-01-01\n",
    "full_data[\"date_offset\"] = (pd.to_datetime(full_data[\"date\"]) - pd.to_datetime('1970-01-01')).dt.total_seconds().astype(int)"
   ]
  },
  {
   "cell_type": "markdown",
   "metadata": {},
   "source": [
    "- is ever a spammer"
   ]
  },
  {
   "cell_type": "code",
   "execution_count": 54,
   "metadata": {},
   "outputs": [],
   "source": [
    "# a spammer is a user with more than 0 fake reviews\n",
    "df_spammer = full_data[['user_id','label']].groupby(\"user_id\").sum().apply(lambda x: x>0).reset_index()\n",
    "df_spammer.rename(columns = {'label':'spammer'}, inplace = True)\n",
    "full_data = full_data.merge(df_spammer, on=\"user_id\")"
   ]
  },
  {
   "cell_type": "markdown",
   "metadata": {},
   "source": [
    "- count daily reviews"
   ]
  },
  {
   "cell_type": "code",
   "execution_count": 55,
   "metadata": {},
   "outputs": [],
   "source": [
    "# count how many reviews per user per day\n",
    "df_dailyreview = full_data[['user_id','date']].groupby(['user_id','date']).size().to_frame('size').reset_index()\n",
    "# max reviews per day\n",
    "df_dailyreview['max_daily_review'] = df_dailyreview[['user_id', 'size']].groupby(['user_id']).transform('max')\n",
    "# avg reviews per day\n",
    "df_dailyreview['avg_daily_review'] = df_dailyreview[['user_id', 'size']].groupby(['user_id']).transform('mean')\n",
    "df_newdailyreview = df_dailyreview[['user_id', 'max_daily_review', 'avg_daily_review']].drop_duplicates(['user_id'])\n",
    "full_data = full_data.merge(df_newdailyreview)"
   ]
  },
  {
   "cell_type": "markdown",
   "metadata": {},
   "source": [
    "- positive and negative reviews"
   ]
  },
  {
   "cell_type": "code",
   "execution_count": 56,
   "metadata": {},
   "outputs": [],
   "source": [
    "# super slow !@#$%^&*()$#@!@#@\n",
    "# % positive reviews per user\n",
    "full_data['pos_review_rate'] = full_data[['user_id','rating']].groupby(['user_id']).transform(lambda x: len(x[x >= 4]) / len(x))\n",
    "# % negative reviews per user\n",
    "full_data['neg_review_rate'] = full_data[['user_id','rating']].groupby(['user_id']).transform(lambda x: len(x[x <= 1]) / len(x))"
   ]
  },
  {
   "cell_type": "markdown",
   "metadata": {},
   "source": [
    "- number of rating per user"
   ]
  },
  {
   "cell_type": "code",
   "execution_count": 57,
   "metadata": {},
   "outputs": [],
   "source": [
    "# number of rating per user\n",
    "full_data['num_user_rating'] = full_data[['user_id','rating']].groupby(['user_id']).transform('count')\n",
    "# number of rating per product\n",
    "full_data['num_prod_rating'] = full_data[['prod_id','rating']].groupby(['prod_id']).transform('count')\n",
    "# summation of rating per product\n",
    "full_data['sum_prod_rating'] = full_data[['prod_id','rating']].groupby(['prod_id']).transform('sum')\n",
    "# compute absolute deviation from the average product rating for each review\n",
    "# Formula from \"Spotting Opinion Spammers using Behavioral Footprints\"\n",
    "full_data['review_dev'] = full_data[['rating','num_prod_rating', 'sum_prod_rating']].apply(\n",
    "    lambda x: np.abs(x.rating - (x.sum_prod_rating - x.rating) / (x.num_prod_rating - 1)) / 4, axis=1)\n",
    "# compute mean deviation per user\n",
    "full_data['avg_user_dev'] = full_data[['user_id','review_dev']].groupby(['user_id']).transform('mean')"
   ]
  },
  {
   "cell_type": "markdown",
   "metadata": {},
   "source": [
    "- first review & reviews within the first 7 month for each product"
   ]
  },
  {
   "cell_type": "code",
   "execution_count": 58,
   "metadata": {},
   "outputs": [],
   "source": [
    "# First review date for each product\n",
    "full_data['first_review_prod'] = full_data[['prod_id','date_offset']].groupby(['prod_id']).transform('min')\n",
    "# Reviews written with the first 7 months\n",
    "full_data['early_time_frame'] = full_data[['first_review_prod','date_offset']].apply(\n",
    "    lambda x: np.maximum(0, 1 - (x.date_offset - x.first_review_prod) // 86400 / (7 * 30)), axis=1)"
   ]
  },
  {
   "cell_type": "markdown",
   "metadata": {},
   "source": [
    "- first review for each user"
   ]
  },
  {
   "cell_type": "code",
   "execution_count": 59,
   "metadata": {},
   "outputs": [],
   "source": [
    "# First review date for each user\n",
    "full_data['first_review_user'] = full_data[['user_id','date_offset']].groupby(['user_id']).transform('min')\n",
    "full_data['last_review_user'] = full_data[['user_id','date_offset']].groupby(['user_id']).transform('max')\n",
    "# All reviews written in 28 days\n",
    "full_data['burstiness'] = full_data[['first_review_user','last_review_user']].apply(\n",
    "    lambda x: np.maximum(0, 1 - (x.last_review_user - x.first_review_user) // 86400 / 28), axis=1)"
   ]
  },
  {
   "cell_type": "markdown",
   "metadata": {},
   "source": [
    "- sort by row_id and reset the index"
   ]
  },
  {
   "cell_type": "code",
   "execution_count": 62,
   "metadata": {},
   "outputs": [],
   "source": [
    "full_data = full_data.sort_values(\"row_id\")"
   ]
  },
  {
   "cell_type": "code",
   "execution_count": 74,
   "metadata": {},
   "outputs": [],
   "source": [
    "full_data = full_data.reset_index(drop=True)"
   ]
  },
  {
   "cell_type": "markdown",
   "metadata": {},
   "source": [
    "- save the new full dataset"
   ]
  },
  {
   "cell_type": "code",
   "execution_count": 81,
   "metadata": {},
   "outputs": [],
   "source": [
    "# full_data.to_csv(\"fake-reviews/full_data.csv\", index=False)"
   ]
  },
  {
   "cell_type": "code",
   "execution_count": null,
   "metadata": {},
   "outputs": [],
   "source": []
  },
  {
   "cell_type": "code",
   "execution_count": null,
   "metadata": {},
   "outputs": [],
   "source": []
  },
  {
   "cell_type": "markdown",
   "metadata": {},
   "source": [
    "## 5. Text Preprocessing\n",
    "\n",
    "- Lower\n",
    "- Remove HTML\n",
    "- Remove extra whitespace\n",
    "- Convert accented characters to ASCII characters\n",
    "- Expand contractions\n",
    "- Remove special characters\n",
    "- Lowercase all texts\n",
    "- Convert number words to numeric form\n",
    "- Remove numbers\n",
    "- Remove stopwords\n",
    "- Lemmatization"
   ]
  },
  {
   "cell_type": "code",
   "execution_count": 15,
   "metadata": {
    "ExecuteTime": {
     "end_time": "2020-05-17T06:35:15.016551Z",
     "start_time": "2020-05-17T06:35:15.012895Z"
    }
   },
   "outputs": [],
   "source": [
    "from bs4 import BeautifulSoup\n",
    "import unidecode\n",
    "from word2number import w2n\n",
    "from pycontractions import Contractions\n",
    "import gensim.downloader as api\n",
    "from nltk.stem.snowball import SnowballStemmer\n",
    "import spacy\n",
    "import re\n",
    "from tqdm import tqdm\n",
    "tqdm.pandas()"
   ]
  },
  {
   "cell_type": "code",
   "execution_count": 18,
   "metadata": {
    "ExecuteTime": {
     "end_time": "2020-05-17T06:23:35.812788Z",
     "start_time": "2020-05-17T06:23:03.591711Z"
    }
   },
   "outputs": [],
   "source": [
    "#!python -m spacy download en_core_web_sm\n",
    "nlp = spacy.load('en_core_web_sm')\n",
    "stemmer = SnowballStemmer(language='english')\n",
    "# Choose model accordingly for contractions function\n",
    "model = api.load(\"glove-twitter-25\")\n",
    "cont = Contractions(kv_model=model)\n",
    "cont.load_models()"
   ]
  },
  {
   "cell_type": "code",
   "execution_count": 31,
   "metadata": {
    "ExecuteTime": {
     "end_time": "2020-05-17T06:24:22.119863Z",
     "start_time": "2020-05-17T06:24:22.082955Z"
    }
   },
   "outputs": [],
   "source": [
    "# reference from https://www.kaggle.com/andreinovikov90/nlp-2\n",
    "def remove_html_tags(text):\n",
    "    ''' remove html tags from text '''\n",
    "    soup = BeautifulSoup(text, \"html.parser\")\n",
    "    stripped_text = soup.get_text(separator=\" \")\n",
    "    return stripped_text\n",
    "\n",
    "def remove_extra_whitespace(text):\n",
    "    ''' remove the extra whitespace '''\n",
    "    text = text.strip()\n",
    "    return \" \".join(text.split())\n",
    "\n",
    "def remove_accented_chars(text):\n",
    "    ''' e.g. café -> cafe '''\n",
    "    text = unidecode.unidecode(text)\n",
    "    return text\n",
    "\n",
    "def expand_contractions(text):\n",
    "    ''' expand shortened words, e.g. can't -> can not '''\n",
    "    text = list(cont.expand_texts([text], precise=True))[0]\n",
    "    return text\n",
    "\n",
    "def remove_url_address(text):\n",
    "    text = re.sub(r'https?:\\/\\/.*[\\r\\n]*', '', text, flags=re.MULTILINE)\n",
    "    return text\n",
    "         \n",
    "def convert_lower_case(text):\n",
    "    return text.lower()\n",
    "\n",
    "def use_negative_word(nlp):\n",
    "    ''' \n",
    "    1. remove no, not from the stopwords \n",
    "    2. nlp: nlp = en_core_web_sm.load()\n",
    "    '''\n",
    "    out_of_stopwords = [\"not\", \"no\"]\n",
    "    for word in out_of_stopwords:\n",
    "        nlp.vocab[word].is_stop = False\n",
    "    return \n",
    "\n",
    "def preprocessing(text, nlp=nlp, remove_html=True, remove_whitespace=True, remove_accented=True, expand_contrac=True, use_negative=True, remove_url=True, convert_lower=True,\n",
    "                  remove_stopword=True, remove_punctuation=True, remove_speical=True, remove_num=True, convert_to_num=False, stemming=False, lemmatization=True):\n",
    "    ''' doing a series of preprocessing on the text data '''\n",
    "    if remove_html == True:\n",
    "        text = remove_html_tags(text)\n",
    "    if remove_whitespace == True:\n",
    "        text = remove_extra_whitespace(text)\n",
    "    if remove_accented == True:\n",
    "        text = remove_accented_chars(text)\n",
    "    if expand_contrac == True:\n",
    "        text = expand_contractions(text)\n",
    "    if remove_url == True:\n",
    "        text = remove_url_address(text)\n",
    "    if convert_lower == True:\n",
    "        text = convert_lower_case(text)\n",
    "    if use_negative == True:\n",
    "        use_negative_word(nlp)\n",
    "    \n",
    "    return text\n",
    "#     # create tokens\n",
    "#     token_list = nlp(text)\n",
    "#     # prepare a clean token list\n",
    "#     clean_tokens = []\n",
    "#     # remove stop words, punctuations, special characters, number\n",
    "#     for token in token_list:\n",
    "#         pointer = True # remove the word if pointer is False\n",
    "#         edited_token = token.text\n",
    "        \n",
    "#         # remove useless tokens\n",
    "#         if remove_stopword == True and token.is_stop and token.pos_ != \"NUM\":\n",
    "#             pointer = False\n",
    "#         elif remove_punctuation == True and token.pos_ == \"PUNCT\" and pointer == True:\n",
    "#             pointer == False\n",
    "#         elif remove_speical == True and token.pos_ == \"SYM\" and pointer == True:\n",
    "#             pointer = False\n",
    "#         elif remove_num == True and (token.pos_ == \"NUM\" or token.text.isnumeric()) and pointer == True:\n",
    "#             pointer = False\n",
    "        \n",
    "            \n",
    "#         word number to numeric number\n",
    "#         if convert_to_num == True and token.pos_ == \"NUM\" and pointer == True:\n",
    "#             edited_token = w2n.word_to_num(token)\n",
    "            \n",
    "#         # stemming and lemmatization\n",
    "#         if lemmatization == True and token.pos_ != \"-PRON-\" and pointer == True:\n",
    "#             edited_token = token.lemma_\n",
    "#         elif stemming == True and pointer == True:\n",
    "#             edited_token = stemmer.stem(token)\n",
    "        \n",
    "#         # append edited token to the clean_tokens list\n",
    "#         if edited_token != \"\" and pointer == True: # if it is not empty\n",
    "#             clean_tokens.append(edited_token)\n",
    "        \n",
    "#     # return the token list\n",
    "#     return clean_tokens"
   ]
  },
  {
   "cell_type": "markdown",
   "metadata": {},
   "source": [
    "## 5. Word Embedding"
   ]
  },
  {
   "cell_type": "markdown",
   "metadata": {},
   "source": [
    "### 5.1. Read preprocessed json file"
   ]
  },
  {
   "cell_type": "code",
   "execution_count": 71,
   "metadata": {},
   "outputs": [],
   "source": [
    "import ndjson"
   ]
  },
  {
   "cell_type": "code",
   "execution_count": 72,
   "metadata": {},
   "outputs": [],
   "source": [
    "def preproess_json_data(path):\n",
    "    with open(path, \"r\") as file:\n",
    "        json_data = ndjson.load(file)\n",
    "    if \"test\" in path:\n",
    "        data_dict = {\"ex_id\": [], \"user_id\": [], \"prod_id\": [],\n",
    "             \"rating\": [], \"date\": [], \"cleaned_review\": []}\n",
    "    else:\n",
    "        data_dict = {\"ex_id\": [], \"user_id\": [], \"prod_id\": [],\n",
    "             \"rating\": [], \"label\": [], \"date\": [], \"cleaned_review\": []}\n",
    "    for row in json_data:\n",
    "        for col_name in data_dict.keys():\n",
    "            try:\n",
    "                data_dict[col_name].append(row[col_name])\n",
    "            except:\n",
    "                pass\n",
    "    return pd.DataFrame(data_dict)"
   ]
  },
  {
   "cell_type": "code",
   "execution_count": 73,
   "metadata": {},
   "outputs": [],
   "source": [
    "cleaned_train = preproess_json_data(\"fake-reviews/train.json\")\n",
    "cleaned_dev = preproess_json_data(\"fake-reviews/dev.json\")\n",
    "cleaned_test = preproess_json_data(\"fake-reviews/test.json\")"
   ]
  },
  {
   "cell_type": "code",
   "execution_count": 74,
   "metadata": {},
   "outputs": [
    {
     "name": "stdout",
     "output_type": "stream",
     "text": [
      "(250874, 7)\n",
      "(35918, 7)\n",
      "(72165, 6)\n"
     ]
    }
   ],
   "source": [
    "print(cleaned_train.shape)\n",
    "print(cleaned_dev.shape)\n",
    "print(cleaned_test.shape)"
   ]
  },
  {
   "cell_type": "markdown",
   "metadata": {},
   "source": [
    "### 5.2. Remove rows with no reviews after preprocessing"
   ]
  },
  {
   "cell_type": "code",
   "execution_count": 189,
   "metadata": {},
   "outputs": [],
   "source": [
    "# new_train = cleaned_train[cleaned_train[\"cleaned_review\"].apply(lambda x: len(x) != 0)]\n",
    "# new_dev = cleaned_dev[cleaned_dev[\"cleaned_review\"].apply(lambda x: len(x) != 0)]"
   ]
  },
  {
   "cell_type": "code",
   "execution_count": 190,
   "metadata": {},
   "outputs": [
    {
     "name": "stdout",
     "output_type": "stream",
     "text": [
      "(250842, 7)\n",
      "(35911, 7)\n"
     ]
    }
   ],
   "source": [
    "# print(new_train.shape)\n",
    "# print(new_dev.shape)"
   ]
  },
  {
   "cell_type": "markdown",
   "metadata": {},
   "source": [
    "### 5.3. Combine train and dev"
   ]
  },
  {
   "cell_type": "code",
   "execution_count": 75,
   "metadata": {},
   "outputs": [],
   "source": [
    "cleaned_data = pd.concat([cleaned_train, cleaned_dev]).reset_index(drop=True)"
   ]
  },
  {
   "cell_type": "code",
   "execution_count": 76,
   "metadata": {},
   "outputs": [
    {
     "data": {
      "text/html": [
       "<div>\n",
       "<style scoped>\n",
       "    .dataframe tbody tr th:only-of-type {\n",
       "        vertical-align: middle;\n",
       "    }\n",
       "\n",
       "    .dataframe tbody tr th {\n",
       "        vertical-align: top;\n",
       "    }\n",
       "\n",
       "    .dataframe thead th {\n",
       "        text-align: right;\n",
       "    }\n",
       "</style>\n",
       "<table border=\"1\" class=\"dataframe\">\n",
       "  <thead>\n",
       "    <tr style=\"text-align: right;\">\n",
       "      <th></th>\n",
       "      <th>ex_id</th>\n",
       "      <th>user_id</th>\n",
       "      <th>prod_id</th>\n",
       "      <th>rating</th>\n",
       "      <th>label</th>\n",
       "      <th>date</th>\n",
       "      <th>cleaned_review</th>\n",
       "    </tr>\n",
       "  </thead>\n",
       "  <tbody>\n",
       "    <tr>\n",
       "      <th>0</th>\n",
       "      <td>0</td>\n",
       "      <td>923</td>\n",
       "      <td>0</td>\n",
       "      <td>3.0</td>\n",
       "      <td>1</td>\n",
       "      <td>2014-12-08</td>\n",
       "      <td>food snack selection popular greek dish appeti...</td>\n",
       "    </tr>\n",
       "    <tr>\n",
       "      <th>1</th>\n",
       "      <td>1</td>\n",
       "      <td>924</td>\n",
       "      <td>0</td>\n",
       "      <td>3.0</td>\n",
       "      <td>1</td>\n",
       "      <td>2013-05-16</td>\n",
       "      <td>little place soho wonderful lamb sandwich glas...</td>\n",
       "    </tr>\n",
       "    <tr>\n",
       "      <th>2</th>\n",
       "      <td>2</td>\n",
       "      <td>925</td>\n",
       "      <td>0</td>\n",
       "      <td>4.0</td>\n",
       "      <td>1</td>\n",
       "      <td>2013-07-01</td>\n",
       "      <td>order lunch snack last friday time nothing mis...</td>\n",
       "    </tr>\n",
       "    <tr>\n",
       "      <th>3</th>\n",
       "      <td>3</td>\n",
       "      <td>926</td>\n",
       "      <td>0</td>\n",
       "      <td>4.0</td>\n",
       "      <td>1</td>\n",
       "      <td>2011-07-28</td>\n",
       "      <td>beautiful quaint little restaurant pretty stre...</td>\n",
       "    </tr>\n",
       "    <tr>\n",
       "      <th>4</th>\n",
       "      <td>4</td>\n",
       "      <td>927</td>\n",
       "      <td>0</td>\n",
       "      <td>4.0</td>\n",
       "      <td>1</td>\n",
       "      <td>2010-11-01</td>\n",
       "      <td>snack great place casual sit lunch especially ...</td>\n",
       "    </tr>\n",
       "  </tbody>\n",
       "</table>\n",
       "</div>"
      ],
      "text/plain": [
       "   ex_id  user_id  prod_id  rating  label        date  \\\n",
       "0      0      923        0     3.0      1  2014-12-08   \n",
       "1      1      924        0     3.0      1  2013-05-16   \n",
       "2      2      925        0     4.0      1  2013-07-01   \n",
       "3      3      926        0     4.0      1  2011-07-28   \n",
       "4      4      927        0     4.0      1  2010-11-01   \n",
       "\n",
       "                                      cleaned_review  \n",
       "0  food snack selection popular greek dish appeti...  \n",
       "1  little place soho wonderful lamb sandwich glas...  \n",
       "2  order lunch snack last friday time nothing mis...  \n",
       "3  beautiful quaint little restaurant pretty stre...  \n",
       "4  snack great place casual sit lunch especially ...  "
      ]
     },
     "execution_count": 76,
     "metadata": {},
     "output_type": "execute_result"
    }
   ],
   "source": [
    "cleaned_data.head()"
   ]
  },
  {
   "cell_type": "markdown",
   "metadata": {},
   "source": [
    "### 5.4. Tokenizer"
   ]
  },
  {
   "cell_type": "code",
   "execution_count": 28,
   "metadata": {},
   "outputs": [],
   "source": [
    "# from nltk.tokenize import word_tokenize"
   ]
  },
  {
   "cell_type": "code",
   "execution_count": 30,
   "metadata": {},
   "outputs": [],
   "source": [
    "# cleaned_data[\"token\"] = [word_tokenize(row) for row in cleaned_data[\"cleaned_review\"]]"
   ]
  },
  {
   "cell_type": "code",
   "execution_count": 31,
   "metadata": {},
   "outputs": [
    {
     "data": {
      "text/html": [
       "<div>\n",
       "<style scoped>\n",
       "    .dataframe tbody tr th:only-of-type {\n",
       "        vertical-align: middle;\n",
       "    }\n",
       "\n",
       "    .dataframe tbody tr th {\n",
       "        vertical-align: top;\n",
       "    }\n",
       "\n",
       "    .dataframe thead th {\n",
       "        text-align: right;\n",
       "    }\n",
       "</style>\n",
       "<table border=\"1\" class=\"dataframe\">\n",
       "  <thead>\n",
       "    <tr style=\"text-align: right;\">\n",
       "      <th></th>\n",
       "      <th>ex_id</th>\n",
       "      <th>user_id</th>\n",
       "      <th>prod_id</th>\n",
       "      <th>rating</th>\n",
       "      <th>label</th>\n",
       "      <th>date</th>\n",
       "      <th>cleaned_review</th>\n",
       "      <th>token</th>\n",
       "    </tr>\n",
       "  </thead>\n",
       "  <tbody>\n",
       "    <tr>\n",
       "      <th>0</th>\n",
       "      <td>0</td>\n",
       "      <td>923</td>\n",
       "      <td>0</td>\n",
       "      <td>3.0</td>\n",
       "      <td>1</td>\n",
       "      <td>2014-12-08</td>\n",
       "      <td>food snack selection popular greek dish appeti...</td>\n",
       "      <td>[food, snack, selection, popular, greek, dish,...</td>\n",
       "    </tr>\n",
       "    <tr>\n",
       "      <th>1</th>\n",
       "      <td>1</td>\n",
       "      <td>924</td>\n",
       "      <td>0</td>\n",
       "      <td>3.0</td>\n",
       "      <td>1</td>\n",
       "      <td>2013-05-16</td>\n",
       "      <td>little place soho wonderful lamb sandwich glas...</td>\n",
       "      <td>[little, place, soho, wonderful, lamb, sandwic...</td>\n",
       "    </tr>\n",
       "    <tr>\n",
       "      <th>2</th>\n",
       "      <td>2</td>\n",
       "      <td>925</td>\n",
       "      <td>0</td>\n",
       "      <td>4.0</td>\n",
       "      <td>1</td>\n",
       "      <td>2013-07-01</td>\n",
       "      <td>order lunch snack last friday time nothing mis...</td>\n",
       "      <td>[order, lunch, snack, last, friday, time, noth...</td>\n",
       "    </tr>\n",
       "    <tr>\n",
       "      <th>3</th>\n",
       "      <td>3</td>\n",
       "      <td>926</td>\n",
       "      <td>0</td>\n",
       "      <td>4.0</td>\n",
       "      <td>1</td>\n",
       "      <td>2011-07-28</td>\n",
       "      <td>beautiful quaint little restaurant pretty stre...</td>\n",
       "      <td>[beautiful, quaint, little, restaurant, pretty...</td>\n",
       "    </tr>\n",
       "    <tr>\n",
       "      <th>4</th>\n",
       "      <td>4</td>\n",
       "      <td>927</td>\n",
       "      <td>0</td>\n",
       "      <td>4.0</td>\n",
       "      <td>1</td>\n",
       "      <td>2010-11-01</td>\n",
       "      <td>snack great place casual sit lunch especially ...</td>\n",
       "      <td>[snack, great, place, casual, sit, lunch, espe...</td>\n",
       "    </tr>\n",
       "  </tbody>\n",
       "</table>\n",
       "</div>"
      ],
      "text/plain": [
       "   ex_id  user_id  prod_id  rating  label        date  \\\n",
       "0      0      923        0     3.0      1  2014-12-08   \n",
       "1      1      924        0     3.0      1  2013-05-16   \n",
       "2      2      925        0     4.0      1  2013-07-01   \n",
       "3      3      926        0     4.0      1  2011-07-28   \n",
       "4      4      927        0     4.0      1  2010-11-01   \n",
       "\n",
       "                                      cleaned_review  \\\n",
       "0  food snack selection popular greek dish appeti...   \n",
       "1  little place soho wonderful lamb sandwich glas...   \n",
       "2  order lunch snack last friday time nothing mis...   \n",
       "3  beautiful quaint little restaurant pretty stre...   \n",
       "4  snack great place casual sit lunch especially ...   \n",
       "\n",
       "                                               token  \n",
       "0  [food, snack, selection, popular, greek, dish,...  \n",
       "1  [little, place, soho, wonderful, lamb, sandwic...  \n",
       "2  [order, lunch, snack, last, friday, time, noth...  \n",
       "3  [beautiful, quaint, little, restaurant, pretty...  \n",
       "4  [snack, great, place, casual, sit, lunch, espe...  "
      ]
     },
     "execution_count": 31,
     "metadata": {},
     "output_type": "execute_result"
    }
   ],
   "source": [
    "# cleaned_data.head()"
   ]
  },
  {
   "cell_type": "code",
   "execution_count": 195,
   "metadata": {},
   "outputs": [],
   "source": [
    "# cleaned_data.to_json(\"fake-reviews/cleaned_data.json\", orient=\"records\")"
   ]
  },
  {
   "cell_type": "markdown",
   "metadata": {},
   "source": [
    "### 5.6. Word2Vec"
   ]
  },
  {
   "cell_type": "code",
   "execution_count": 162,
   "metadata": {},
   "outputs": [],
   "source": [
    "from gensim.models import Word2Vec"
   ]
  },
  {
   "cell_type": "markdown",
   "metadata": {},
   "source": [
    "- Loaded the pretrained model"
   ]
  },
  {
   "cell_type": "code",
   "execution_count": 173,
   "metadata": {},
   "outputs": [],
   "source": [
    "import gensim.downloader as api"
   ]
  },
  {
   "cell_type": "code",
   "execution_count": 208,
   "metadata": {},
   "outputs": [],
   "source": [
    "# w2v_corpus = api.load(\"word2vec-google-news-300\")"
   ]
  },
  {
   "cell_type": "markdown",
   "metadata": {},
   "source": [
    "### 5.7. Glove"
   ]
  },
  {
   "cell_type": "markdown",
   "metadata": {},
   "source": [
    "I am going to load a set of 50D word vectors from GloVe."
   ]
  },
  {
   "cell_type": "code",
   "execution_count": 31,
   "metadata": {},
   "outputs": [],
   "source": [
    "import sacremoses"
   ]
  },
  {
   "cell_type": "code",
   "execution_count": 10,
   "metadata": {},
   "outputs": [],
   "source": [
    "# !wget https://docs.google.com/uc?id=1si-rTb4nALWb-Wah5_tqbs9KXAwE3qhK -O glove.aa\n",
    "# !wget https://docs`.google.com/uc?id=1_XywxYH56-tHepqxpUfE-Y6xNQSZiu-7 -O glove.ab\n",
    "# !wget https://docs.google.com/uc?id=1ISSLqQWL8EO8blT54RKahkDQhtmSp9ae -O glove.ac\n",
    "# !wget https://docs.google.com/uc?id=1qHqCKLFO0Zdyhmb_ctd63aaFRLNGiDfB -O glove.ad\n",
    "# !cat glove.?? > 'glove.6B.50d.txt'"
   ]
  },
  {
   "cell_type": "code",
   "execution_count": 22,
   "metadata": {},
   "outputs": [],
   "source": [
    "# VOCAB_SIZE = 50001\n",
    "EMBEDDING_DIM = 50\n",
    "PAD_TOKEN = \"PAD\"\n",
    "# NUM_CLASSES = 2\n",
    "# NUM_EPOCHS = 10"
   ]
  },
  {
   "cell_type": "code",
   "execution_count": 52,
   "metadata": {},
   "outputs": [],
   "source": [
    "text_data = cleaned_data.loc[:, [\"label\", \"cleaned_review\"]]\n",
    "train_data = text_data.rename(columns={\"cleaned_review\": \"text\"})\n",
    "train_labels = train_data[\"label\"]\n",
    "test_text_data = cleaned_test.loc[:, [\"cleaned_review\"]]\n",
    "test_data = test_text_data.rename(columns={\"cleaned_review\": \"text\"})\n",
    "test_data[\"label\"] = [0] * test_data.shape[0]"
   ]
  },
  {
   "cell_type": "code",
   "execution_count": 68,
   "metadata": {},
   "outputs": [
    {
     "data": {
      "text/plain": [
       "282.0"
      ]
     },
     "execution_count": 68,
     "metadata": {},
     "output_type": "execute_result"
    }
   ],
   "source": [
    "# compute the median of the text length\n",
    "# np.median(train_data[\"text\"].apply(lambda x: len(x)))"
   ]
  },
  {
   "cell_type": "code",
   "execution_count": 23,
   "metadata": {},
   "outputs": [],
   "source": [
    "def load_glove(glove_path, embedding_dim):\n",
    "    with open(glove_path) as f:\n",
    "        token_ls = [PAD_TOKEN]\n",
    "        embedding_ls = [np.zeros(embedding_dim)]\n",
    "        for line in f:\n",
    "            token, raw_embedding = line.split(maxsplit=1)\n",
    "            token_ls.append(token)\n",
    "            embedding = np.array([float(x) for x in raw_embedding.split()])\n",
    "            embedding_ls.append(embedding)\n",
    "        embeddings = np.array(embedding_ls)\n",
    "    return token_ls, embeddings"
   ]
  },
  {
   "cell_type": "code",
   "execution_count": 24,
   "metadata": {},
   "outputs": [],
   "source": [
    "glove_path = \"glove.6B.50d.txt\"\n",
    "vocab, embeddings = load_glove(glove_path, EMBEDDING_DIM)"
   ]
  },
  {
   "cell_type": "code",
   "execution_count": 34,
   "metadata": {},
   "outputs": [
    {
     "name": "stdout",
     "output_type": "stream",
     "text": [
      "400001\n",
      "['PAD', 'the', ',', '.', 'of', 'to', 'and', 'in', 'a', '\"', \"'s\", 'for', '-', 'that', 'on', 'is', 'was', 'said', 'with', 'he']\n",
      "(50,)\n"
     ]
    }
   ],
   "source": [
    "print(len(vocab))\n",
    "print(vocab[:20])\n",
    "print(embeddings[0].shape)\n",
    "# print(embeddings[:5])"
   ]
  },
  {
   "cell_type": "code",
   "execution_count": 95,
   "metadata": {},
   "outputs": [
    {
     "name": "stderr",
     "output_type": "stream",
     "text": [
      "/scratch/kll482/anaconda3/envs/py36/lib/python3.6/site-packages/ipykernel_launcher.py:5: TqdmDeprecationWarning: This function will be removed in tqdm==5.0.0\n",
      "Please use `tqdm.notebook.tqdm` instead of `tqdm.tqdm_notebook`\n",
      "  \"\"\"\n"
     ]
    },
    {
     "data": {
      "application/vnd.jupyter.widget-view+json": {
       "model_id": "5af338acc3df4b168a12a6bf82bd70b0",
       "version_major": 2,
       "version_minor": 0
      },
      "text/plain": [
       "HBox(children=(FloatProgress(value=0.0, max=286792.0), HTML(value='')))"
      ]
     },
     "metadata": {},
     "output_type": "display_data"
    },
    {
     "name": "stdout",
     "output_type": "stream",
     "text": [
      "\n"
     ]
    },
    {
     "data": {
      "application/vnd.jupyter.widget-view+json": {
       "model_id": "2b3ee90f3947489993de0eb44d8dfd3b",
       "version_major": 2,
       "version_minor": 0
      },
      "text/plain": [
       "HBox(children=(FloatProgress(value=0.0, max=72165.0), HTML(value='')))"
      ]
     },
     "metadata": {},
     "output_type": "display_data"
    },
    {
     "name": "stdout",
     "output_type": "stream",
     "text": [
      "\n"
     ]
    }
   ],
   "source": [
    "# def featurize(data_df, tokenizer, vocab, max_seq_length=282):\n",
    "#     vocab_to_idx = {word: i for i, word in enumerate(vocab)}\n",
    "#     text_data = []\n",
    "#     label_data = []\n",
    "#     for row in tqdm.tqdm_notebook(data_df.itertuples(), total=len(data_df)):\n",
    "#         tokenized = tokenizer.tokenize(row.text.lower())\n",
    "#         if len(tokenized) < max_seq_length:\n",
    "#             tokenized += [PAD_TOKEN] * (max_seq_length - len(tokenized))\n",
    "#         tokenized = tokenized[:max_seq_length]\n",
    "#         ids = [vocab_to_idx.get(token, 0) for token in tokenized]\n",
    "#         text_data.append(ids)\n",
    "#         label_data.append(row.label)\n",
    "#     return np.array(text_data), np.array(label_data)\n",
    "\n",
    "# tokenizer = sacremoses.MosesTokenizer()\n",
    "# train_text, train_labels = featurize(train_data, tokenizer, vocab)\n",
    "# test_text, test_labels = featurize(test_data, tokenizer, vocab)"
   ]
  },
  {
   "cell_type": "code",
   "execution_count": 96,
   "metadata": {},
   "outputs": [
    {
     "name": "stdout",
     "output_type": "stream",
     "text": [
      "(286792, 282)\n",
      "(72165, 282)\n"
     ]
    }
   ],
   "source": [
    "# print(train_text.shape)\n",
    "# print(test_text.shape)"
   ]
  },
  {
   "cell_type": "code",
   "execution_count": 97,
   "metadata": {},
   "outputs": [],
   "source": [
    "# save glove numpy\n",
    "# np.save('fake-reviews/GLOVE/train_text_glove_50d_282.npy', train_text)\n",
    "# np.save('fake-reviews/GLOVE/test_text_glove_50d_282.npy', test_text)"
   ]
  },
  {
   "cell_type": "code",
   "execution_count": 64,
   "metadata": {},
   "outputs": [],
   "source": [
    "# train_text = np.load('fake-reviews/GLOVE/train_text_glove.npy', allow_pickle=True)\n",
    "# test_text = np.load('fake-reviews/GLOVE/test_text_glove.npy', allow_pickle=True)"
   ]
  },
  {
   "cell_type": "code",
   "execution_count": 96,
   "metadata": {},
   "outputs": [],
   "source": [
    "def compute_sum_embedding(text_df, tokenizer, vocab=vocab, embeddings=embeddings):\n",
    "    vocab_to_idx = {word: i for i, word in enumerate(vocab)}\n",
    "    feature_matrix = np.zeros((text_df.shape[0], len(embeddings[0])))\n",
    "    save_zero_index = []\n",
    "    for i, row in tqdm.tqdm_notebook(enumerate(text_df)):\n",
    "        tokenized_row = tokenizer.tokenize(row)\n",
    "        total_feature = np.zeros(len(embeddings[0])) # 50d\n",
    "        count_zero = 0\n",
    "        for word in row:\n",
    "            index_vocab = vocab_to_idx.get(word, 0)\n",
    "            if index_vocab == 0: # if pad, don't count it in the length of tokens\n",
    "                count_zero += 1\n",
    "            total_feature += embeddings[index_vocab]\n",
    "            \n",
    "        if (len(row)-count_zero) == 0 or len(row) == 0:\n",
    "            save_zero_index.append(i)\n",
    "            feature_matrix[i] = np.zeros(len(embeddings[0]))\n",
    "        else:\n",
    "            feature_matrix[i] = total_feature/(len(row)-count_zero)\n",
    "    return feature_matrix, save_zero_index"
   ]
  },
  {
   "cell_type": "code",
   "execution_count": 97,
   "metadata": {},
   "outputs": [
    {
     "name": "stderr",
     "output_type": "stream",
     "text": [
      "/scratch/kll482/anaconda3/envs/py36/lib/python3.6/site-packages/ipykernel_launcher.py:5: TqdmDeprecationWarning: This function will be removed in tqdm==5.0.0\n",
      "Please use `tqdm.notebook.tqdm` instead of `tqdm.tqdm_notebook`\n",
      "  \"\"\"\n"
     ]
    },
    {
     "data": {
      "application/vnd.jupyter.widget-view+json": {
       "model_id": "ac5032f623064360b7c1f2f94a5bae5a",
       "version_major": 2,
       "version_minor": 0
      },
      "text/plain": [
       "HBox(children=(FloatProgress(value=1.0, bar_style='info', max=1.0), HTML(value='')))"
      ]
     },
     "metadata": {},
     "output_type": "display_data"
    },
    {
     "name": "stdout",
     "output_type": "stream",
     "text": [
      "\n"
     ]
    }
   ],
   "source": [
    "tokenizer = sacremoses.MosesTokenizer()\n",
    "train_embedding, train_zeros = compute_sum_embedding(train_data[\"text\"], tokenizer, vocab, embeddings)"
   ]
  },
  {
   "cell_type": "code",
   "execution_count": 102,
   "metadata": {},
   "outputs": [
    {
     "name": "stderr",
     "output_type": "stream",
     "text": [
      "/scratch/kll482/anaconda3/envs/py36/lib/python3.6/site-packages/ipykernel_launcher.py:5: TqdmDeprecationWarning: This function will be removed in tqdm==5.0.0\n",
      "Please use `tqdm.notebook.tqdm` instead of `tqdm.tqdm_notebook`\n",
      "  \"\"\"\n"
     ]
    },
    {
     "data": {
      "application/vnd.jupyter.widget-view+json": {
       "model_id": "bd181803126d4406844bc1e71f856517",
       "version_major": 2,
       "version_minor": 0
      },
      "text/plain": [
       "HBox(children=(FloatProgress(value=1.0, bar_style='info', max=1.0), HTML(value='')))"
      ]
     },
     "metadata": {},
     "output_type": "display_data"
    },
    {
     "name": "stdout",
     "output_type": "stream",
     "text": [
      "\n"
     ]
    }
   ],
   "source": [
    "test_embedding, test_zeros = compute_sum_embedding(test_data[\"text\"], tokenizer, vocab, embeddings)"
   ]
  },
  {
   "cell_type": "code",
   "execution_count": 104,
   "metadata": {},
   "outputs": [],
   "source": [
    "# save glove sum embedding\n",
    "# np.save('fake-reviews/GLOVE/train_avg_embedding_glove_50d.npy', train_embedding)\n",
    "# np.save('fake-reviews/GLOVE/test_avg_embedding_glove_50d.npy', test_embedding)"
   ]
  },
  {
   "cell_type": "code",
   "execution_count": 25,
   "metadata": {},
   "outputs": [],
   "source": [
    "# load glove sum embedding\n",
    "train_embedding = np.load('fake-reviews/GLOVE/train_avg_embedding_glove_50d.npy')\n",
    "test_embedding = np.load('fake-reviews/GLOVE/test_avg_embedding_glove_50d.npy')"
   ]
  },
  {
   "cell_type": "markdown",
   "metadata": {},
   "source": [
    "## 6. Bag of word"
   ]
  },
  {
   "cell_type": "code",
   "execution_count": 131,
   "metadata": {},
   "outputs": [],
   "source": [
    "from sklearn.feature_extraction.text import CountVectorizer\n",
    "from nltk.tokenize import word_tokenize"
   ]
  },
  {
   "cell_type": "code",
   "execution_count": 144,
   "metadata": {},
   "outputs": [
    {
     "data": {
      "text/plain": [
       "CountVectorizer(analyzer='word', binary=False, decode_error='strict',\n",
       "                dtype=<class 'numpy.int64'>, encoding='utf-8', input='content',\n",
       "                lowercase=True, max_df=1.0, max_features=200, min_df=1,\n",
       "                ngram_range=(2, 2), preprocessor=None, stop_words=None,\n",
       "                strip_accents=None, token_pattern='(?u)\\\\b\\\\w\\\\w+\\\\b',\n",
       "                tokenizer=None, vocabulary=None)"
      ]
     },
     "execution_count": 144,
     "metadata": {},
     "output_type": "execute_result"
    }
   ],
   "source": [
    "vectorizer1 = CountVectorizer(analyzer='word', ngram_range=(1, 1), max_features=200)\n",
    "vectorizer2 = CountVectorizer(analyzer='word', ngram_range=(2, 2), max_features=200)\n",
    "# fit\n",
    "vectorizer1.fit(cleaned_data[\"cleaned_review\"])\n",
    "vectorizer2.fit(cleaned_data[\"cleaned_review\"])"
   ]
  },
  {
   "cell_type": "code",
   "execution_count": 145,
   "metadata": {},
   "outputs": [],
   "source": [
    "# transform train data\n",
    "train_v1 = vectorizer1.transform(cleaned_data[\"cleaned_review\"])\n",
    "train_v2 = vectorizer2.transform(cleaned_data[\"cleaned_review\"])\n",
    "# transform text data\n",
    "test_v1 = vectorizer1.transform(cleaned_test[\"cleaned_review\"])\n",
    "test_v2 = vectorizer2.transform(cleaned_test[\"cleaned_review\"])"
   ]
  },
  {
   "cell_type": "code",
   "execution_count": 146,
   "metadata": {},
   "outputs": [
    {
     "data": {
      "text/plain": [
       "(286792, 200)"
      ]
     },
     "execution_count": 146,
     "metadata": {},
     "output_type": "execute_result"
    }
   ],
   "source": [
    "train_v1.shape"
   ]
  },
  {
   "cell_type": "code",
   "execution_count": 19,
   "metadata": {},
   "outputs": [],
   "source": [
    "# labels\n",
    "# train_labels = cleaned_data[\"label\"].values"
   ]
  },
  {
   "cell_type": "code",
   "execution_count": 147,
   "metadata": {},
   "outputs": [],
   "source": [
    "# save BOW numpy\n",
    "# np.save('fake-reviews/BOW/BOW_200/train_BOW_200_1gram.npy', train_v1)\n",
    "# np.save('fake-reviews/BOW/BOW_200/train_BOW_200_bigram.npy', train_v2)\n",
    "# np.save('fake-reviews/BOW/BOW_200/test_BOW_200_1gram.npy', test_v1)\n",
    "# np.save('fake-reviews/BOW/BOW_200/test_BOW_200_bigram.npy', test_v2)\n",
    "#np.save('fake-reviews/data_label.npy', train_labels)"
   ]
  },
  {
   "cell_type": "code",
   "execution_count": 47,
   "metadata": {},
   "outputs": [],
   "source": [
    "size = str(1000)\n",
    "train_v1 = np.load('fake-reviews/BOW/BOW_{}/train_BOW_{}_1gram.npy'.format(size, size), allow_pickle=True).item()\n",
    "train_v2 = np.load('fake-reviews/BOW/BOW_{}/train_BOW_{}_bigram.npy'.format(size, size), allow_pickle=True).item()\n",
    "test_v1 = np.load('fake-reviews/BOW/BOW_{}/test_BOW_{}_1gram.npy'.format(size, size), allow_pickle=True).item()\n",
    "test_v2 = np.load('fake-reviews/BOW/BOW_{}/test_BOW_{}_bigram.npy'.format(size, size), allow_pickle=True).item()\n",
    "train_labels = np.load('fake-reviews/data_label.npy', allow_pickle=True)"
   ]
  },
  {
   "cell_type": "code",
   "execution_count": 21,
   "metadata": {},
   "outputs": [],
   "source": [
    "from scipy.sparse import csr_matrix\n",
    "def sparse_to_dense(train, test):\n",
    "    train = csr_matrix.todense(train)\n",
    "    test = csr_matrix.todense(test)\n",
    "\n",
    "    return train, test"
   ]
  },
  {
   "cell_type": "code",
   "execution_count": 23,
   "metadata": {},
   "outputs": [],
   "source": [
    "train_v1, test_v1 = sparse_to_dense(train_v1, test_v1)"
   ]
  },
  {
   "cell_type": "code",
   "execution_count": 24,
   "metadata": {},
   "outputs": [],
   "source": [
    "train_v2, test_v2 = sparse_to_dense(train_v2, test_v2)"
   ]
  },
  {
   "cell_type": "markdown",
   "metadata": {},
   "source": [
    "## 7. Split Tranditional Dataframe"
   ]
  },
  {
   "cell_type": "code",
   "execution_count": 91,
   "metadata": {},
   "outputs": [],
   "source": [
    "used_features = ['rating', 'num_user_rating', 'max_daily_review', 'avg_daily_review', 'review_len', 'pos_review_rate', \n",
    "                 'neg_review_rate', 'review_dev', 'avg_user_dev']\n",
    "\n",
    "useful_data = full_data.loc[:, used_features]\n",
    "useful_train = useful_data.iloc[range(len(data)), :]\n",
    "useful_test = useful_data.iloc[range(len(data), len(full_data)), :]"
   ]
  },
  {
   "cell_type": "code",
   "execution_count": null,
   "metadata": {},
   "outputs": [],
   "source": [
    "# data['glove_50d'] = list(np.load('train_avg_embedding_glove_50d.npy')\n",
    "# from sklearn.metrics.pairwise import cosine_similarity\n",
    "# def content_similarity(x):\n",
    "#     x_2d = np.array(x.values.tolist())\n",
    "#     if len(x_2d) > 1:\n",
    "#         return (np.sum(cosine_similarity(x_2d, x_2d)) - len(x_2d)) / (len(x_2d) ** 2 - len(x_2d))\n",
    "#     else:\n",
    "#         return 0\n",
    "# data['avg_content_similarity'] = data[['user_id', 'glove_50d']].groupby(['user_id']).transform(lambda x: content_similarity(x))"
   ]
  },
  {
   "cell_type": "code",
   "execution_count": null,
   "metadata": {},
   "outputs": [],
   "source": []
  },
  {
   "cell_type": "markdown",
   "metadata": {},
   "source": [
    "## 8. Model Tuning"
   ]
  },
  {
   "cell_type": "code",
   "execution_count": 4,
   "metadata": {},
   "outputs": [],
   "source": [
    "from sklearn.compose import ColumnTransformer, make_column_transformer\n",
    "from sklearn.linear_model import LogisticRegression, SGDClassifier\n",
    "from sklearn.metrics import accuracy_score, roc_auc_score, average_precision_score, recall_score, precision_score\n",
    "from sklearn.model_selection import GridSearchCV, train_test_split\n",
    "#from sklearn.pipeline import Pipeline, make_pipeline\n",
    "from sklearn.preprocessing import LabelEncoder, OneHotEncoder, StandardScaler\n",
    "from sklearn.svm import SVC, LinearSVC\n",
    "from sklearn.decomposition import TruncatedSVD\n",
    "from sklearn.naive_bayes import GaussianNB\n",
    "import xgboost as xgb\n",
    "from xgboost import XGBClassifier"
   ]
  },
  {
   "cell_type": "code",
   "execution_count": 5,
   "metadata": {},
   "outputs": [],
   "source": [
    "from imblearn.pipeline import make_pipeline\n",
    "from imblearn.under_sampling import RandomUnderSampler\n",
    "from imblearn.over_sampling import RandomOverSampler\n",
    "from imblearn.over_sampling import SMOTE\n",
    "from imblearn.ensemble import BalancedBaggingClassifier "
   ]
  },
  {
   "cell_type": "code",
   "execution_count": 6,
   "metadata": {},
   "outputs": [],
   "source": [
    "def evaluate(model, X_test, y_test):\n",
    "    y_scores = model.predict_proba(X_test)[:, 1]\n",
    "    metrics = [average_precision_score, roc_auc_score]#, precision_score, recall_score, accuracy_score]\n",
    "    for m in metrics:\n",
    "        print(\"{}: {}\".format(m.__name__, m(y_test, y_scores)))"
   ]
  },
  {
   "cell_type": "markdown",
   "metadata": {},
   "source": [
    "Scaler + Dimension Reduction"
   ]
  },
  {
   "cell_type": "code",
   "execution_count": 17,
   "metadata": {},
   "outputs": [],
   "source": [
    "def resampling_func(train_X, train_y):\n",
    "    rus = RandomUnderSampler(sampling_strategy={0:10**5//2}, # 50,000\n",
    "                             random_state=123)\n",
    "    sm = SMOTE(random_state=123, k_neighbors=5)\n",
    "    # ros = RandomOverSampler(random_state=123)\n",
    "    \n",
    "    rus_train_X, rus_train_y = rus.fit_resample(train_X, train_y)\n",
    "    sm_rus_train_X, sm_rus_train_y = sm.fit_resample(rus_train_X, rus_train_y)\n",
    "    \n",
    "    return sm_rus_train_X, sm_rus_train_y\n",
    "\n",
    "def train_test_split_index(train_data):\n",
    "    pass\n",
    "    \n",
    "def scaler_svd(train_text=None, train_label=None, test_text=None,\n",
    "               is_not_sparse=True, do_svd=False, svd_sim=20, resampling=True):\n",
    "    if train_text is not None and train_label is not None:\n",
    "        X_train, X_val, y_train, y_val = train_test_split(train_text, train_label, test_size=0.2, random_state=123)\n",
    "    \n",
    "    # 1. columnss to standardize\n",
    "    sdscaler = StandardScaler(with_mean=is_not_sparse) # is_not_sparse == False -> is a sparse matrix\n",
    "    sdscaler.fit(X_train)\n",
    "    scaled_train = sdscaler.transform(X_train) # train\n",
    "    scaled_val = sdscaler.transform(X_val) # val\n",
    "    \n",
    "    if test_text is not None:\n",
    "        scaled_test = sdscaler.transform(test_text) # test\n",
    "\n",
    "    # 2. SVD\n",
    "    if do_svd == True:\n",
    "        tsvd = TruncatedSVD(n_components=svd_sim, random_state=123)\n",
    "        tsvd.fit(scaled_train)\n",
    "        final_scaled_train = tsvd.transform(scaled_train)\n",
    "        final_scaled_val = tsvd.transform(scaled_val)\n",
    "        if test_text is not None:\n",
    "            final_scaled_test = tsvd.transform(scaled_test)\n",
    "    else:\n",
    "        final_scaled_train, final_scaled_val, final_scaled_test = scaled_train, scaled_val, scaled_test\n",
    "    \n",
    "    # 3. combine traditional columns with text columns\n",
    "    \n",
    "    \n",
    "    # 4. resampling\n",
    "    if resampling == True:\n",
    "        final_scaled_train, y_train = resampling_func(final_scaled_train, y_train)\n",
    "    \n",
    "    # return \n",
    "    if test_text is not None:\n",
    "        return final_scaled_train, y_train, final_scaled_val, y_val, final_scaled_test\n",
    "    else:\n",
    "        return final_scaled_train, y_train, final_scaled_val, y_val"
   ]
  },
  {
   "cell_type": "code",
   "execution_count": 48,
   "metadata": {},
   "outputs": [],
   "source": [
    "train_X, train_y, val_X, val_y, test_X = scaler_svd(train_text=train_v1,\n",
    "                                                    train_label=train_labels,\n",
    "                                                    test_text=test_v1,\n",
    "                                                    do_svd=False,\n",
    "                                                    is_not_sparse=False,\n",
    "                                                    svd_sim=20)"
   ]
  },
  {
   "cell_type": "code",
   "execution_count": 49,
   "metadata": {},
   "outputs": [
    {
     "name": "stdout",
     "output_type": "stream",
     "text": [
      "(100000, 1000)\n",
      "(100000,)\n",
      "(57359, 1000)\n",
      "(57359,)\n",
      "(100000, 1000)\n",
      "(100000,)\n",
      "(57359, 1000)\n",
      "(57359,)\n"
     ]
    }
   ],
   "source": [
    "print(train_X.shape)\n",
    "print(train_y.shape)\n",
    "print(val_X.shape)\n",
    "print(val_y.shape)"
   ]
  },
  {
   "cell_type": "code",
   "execution_count": 56,
   "metadata": {},
   "outputs": [],
   "source": [
    "# np.save('fake-reviews/GLOVE/train_X.npy', train_X)\n",
    "# np.save('fake-reviews/GLOVE/train_y.npy', train_y)\n",
    "# np.save('fake-reviews/GLOVE/val_X.npy', val_X)\n",
    "# np.save('fake-reviews/GLOVE/val_y.npy', val_y)\n",
    "# np.save('fake-reviews/GLOVE/test_X.npy', test_X)"
   ]
  },
  {
   "cell_type": "code",
   "execution_count": 5,
   "metadata": {},
   "outputs": [],
   "source": [
    "# train_X = np.load('fake-reviews/GLOVE/train_X.npy')\n",
    "# train_y = np.load('fake-reviews/GLOVE/train_y.npy')\n",
    "# val_X = np.load('fake-reviews/GLOVE/val_X.npy')\n",
    "# val_y = np.load('fake-reviews/GLOVE/val_y.npy')\n",
    "# test_X = np.load('fake-reviews/GLOVE/test_X.npy')"
   ]
  },
  {
   "cell_type": "code",
   "execution_count": 31,
   "metadata": {},
   "outputs": [
    {
     "name": "stdout",
     "output_type": "stream",
     "text": [
      "Fitting 3 folds for each of 8 candidates, totalling 24 fits\n",
      "[CV] logisticregression__C=1e-06 .....................................\n",
      "Fitting 3 folds for each of 8 candidates, totalling 24 fits\n",
      "[CV] logisticregression__C=1e-06 .....................................\n"
     ]
    },
    {
     "name": "stderr",
     "output_type": "stream",
     "text": [
      "[Parallel(n_jobs=1)]: Using backend SequentialBackend with 1 concurrent workers.\n",
      "[Parallel(n_jobs=1)]: Using backend SequentialBackend with 1 concurrent workers.\n"
     ]
    },
    {
     "name": "stdout",
     "output_type": "stream",
     "text": [
      "[CV] . logisticregression__C=1e-06, AP=0.583, AUC=0.567, total=   0.7s\n",
      "[CV] logisticregression__C=1e-06 .....................................\n",
      "[CV] . logisticregression__C=1e-06, AP=0.576, AUC=0.566, total=   0.1s\n",
      "[CV] logisticregression__C=1e-06 .....................................\n"
     ]
    },
    {
     "name": "stderr",
     "output_type": "stream",
     "text": [
      "[Parallel(n_jobs=1)]: Done   1 out of   1 | elapsed:    0.7s remaining:    0.0s\n",
      "[Parallel(n_jobs=1)]: Done   2 out of   2 | elapsed:    0.8s remaining:    0.0s\n"
     ]
    },
    {
     "name": "stdout",
     "output_type": "stream",
     "text": [
      "[CV] . logisticregression__C=1e-06, AP=0.583, AUC=0.567, total=   0.7s\n",
      "[CV] logisticregression__C=1e-06 .....................................\n",
      "[CV] . logisticregression__C=1e-06, AP=0.576, AUC=0.566, total=   0.1s\n",
      "[CV] logisticregression__C=1e-06 .....................................\n"
     ]
    },
    {
     "name": "stderr",
     "output_type": "stream",
     "text": [
      "[Parallel(n_jobs=1)]: Done   1 out of   1 | elapsed:    0.7s remaining:    0.0s\n",
      "[Parallel(n_jobs=1)]: Done   2 out of   2 | elapsed:    0.8s remaining:    0.0s\n"
     ]
    },
    {
     "name": "stdout",
     "output_type": "stream",
     "text": [
      "[CV] . logisticregression__C=1e-06, AP=0.571, AUC=0.565, total=   0.1s\n",
      "[CV] logisticregression__C=1e-05 .....................................\n",
      "[CV] . logisticregression__C=1e-06, AP=0.571, AUC=0.565, total=   0.1s\n",
      "[CV] logisticregression__C=1e-05 .....................................\n"
     ]
    },
    {
     "name": "stderr",
     "output_type": "stream",
     "text": [
      "[Parallel(n_jobs=1)]: Done   3 out of   3 | elapsed:    0.9s remaining:    0.0s\n",
      "[Parallel(n_jobs=1)]: Done   3 out of   3 | elapsed:    0.9s remaining:    0.0s\n"
     ]
    },
    {
     "name": "stdout",
     "output_type": "stream",
     "text": [
      "[CV] . logisticregression__C=1e-05, AP=0.590, AUC=0.578, total=   0.2s\n",
      "[CV] logisticregression__C=1e-05 .....................................\n",
      "[CV] . logisticregression__C=1e-05, AP=0.590, AUC=0.578, total=   0.2s\n",
      "[CV] logisticregression__C=1e-05 .....................................\n"
     ]
    },
    {
     "name": "stderr",
     "output_type": "stream",
     "text": [
      "[Parallel(n_jobs=1)]: Done   4 out of   4 | elapsed:    1.2s remaining:    0.0s\n",
      "[Parallel(n_jobs=1)]: Done   4 out of   4 | elapsed:    1.2s remaining:    0.0s\n"
     ]
    },
    {
     "name": "stdout",
     "output_type": "stream",
     "text": [
      "[CV] . logisticregression__C=1e-05, AP=0.584, AUC=0.579, total=   0.2s\n",
      "[CV] logisticregression__C=1e-05 .....................................\n",
      "[CV] . logisticregression__C=1e-05, AP=0.584, AUC=0.579, total=   0.2s\n",
      "[CV] logisticregression__C=1e-05 .....................................\n"
     ]
    },
    {
     "name": "stderr",
     "output_type": "stream",
     "text": [
      "[Parallel(n_jobs=1)]: Done   5 out of   5 | elapsed:    1.4s remaining:    0.0s\n",
      "[Parallel(n_jobs=1)]: Done   5 out of   5 | elapsed:    1.4s remaining:    0.0s\n"
     ]
    },
    {
     "name": "stdout",
     "output_type": "stream",
     "text": [
      "[CV] . logisticregression__C=1e-05, AP=0.577, AUC=0.577, total=   0.2s\n",
      "[CV] logisticregression__C=0.0001 ....................................\n",
      "[CV] . logisticregression__C=1e-05, AP=0.577, AUC=0.577, total=   0.2s\n",
      "[CV] logisticregression__C=0.0001 ....................................\n"
     ]
    },
    {
     "name": "stderr",
     "output_type": "stream",
     "text": [
      "[Parallel(n_jobs=1)]: Done   6 out of   6 | elapsed:    1.6s remaining:    0.0s\n",
      "[Parallel(n_jobs=1)]: Done   6 out of   6 | elapsed:    1.6s remaining:    0.0s\n"
     ]
    },
    {
     "name": "stdout",
     "output_type": "stream",
     "text": [
      "[CV]  logisticregression__C=0.0001, AP=0.603, AUC=0.594, total=   0.5s\n",
      "[CV] logisticregression__C=0.0001 ....................................\n",
      "[CV]  logisticregression__C=0.0001, AP=0.603, AUC=0.594, total=   0.5s\n",
      "[CV] logisticregression__C=0.0001 ....................................\n"
     ]
    },
    {
     "name": "stderr",
     "output_type": "stream",
     "text": [
      "[Parallel(n_jobs=1)]: Done   7 out of   7 | elapsed:    2.2s remaining:    0.0s\n",
      "[Parallel(n_jobs=1)]: Done   7 out of   7 | elapsed:    2.2s remaining:    0.0s\n"
     ]
    },
    {
     "name": "stdout",
     "output_type": "stream",
     "text": [
      "[CV]  logisticregression__C=0.0001, AP=0.596, AUC=0.597, total=   0.7s\n",
      "[CV] logisticregression__C=0.0001 ....................................\n",
      "[CV]  logisticregression__C=0.0001, AP=0.596, AUC=0.597, total=   0.7s\n",
      "[CV] logisticregression__C=0.0001 ....................................\n"
     ]
    },
    {
     "name": "stderr",
     "output_type": "stream",
     "text": [
      "[Parallel(n_jobs=1)]: Done   8 out of   8 | elapsed:    2.8s remaining:    0.0s\n",
      "[Parallel(n_jobs=1)]: Done   8 out of   8 | elapsed:    2.8s remaining:    0.0s\n"
     ]
    },
    {
     "name": "stdout",
     "output_type": "stream",
     "text": [
      "[CV]  logisticregression__C=0.0001, AP=0.584, AUC=0.592, total=   0.8s\n",
      "[CV] logisticregression__C=0.001 .....................................\n"
     ]
    },
    {
     "name": "stderr",
     "output_type": "stream",
     "text": [
      "[Parallel(n_jobs=1)]: Done   9 out of   9 | elapsed:    3.6s remaining:    0.0s\n"
     ]
    },
    {
     "name": "stdout",
     "output_type": "stream",
     "text": [
      "[CV]  logisticregression__C=0.0001, AP=0.584, AUC=0.592, total=   0.8s\n",
      "[CV] logisticregression__C=0.001 .....................................\n"
     ]
    },
    {
     "name": "stderr",
     "output_type": "stream",
     "text": [
      "[Parallel(n_jobs=1)]: Done   9 out of   9 | elapsed:    3.6s remaining:    0.0s\n"
     ]
    },
    {
     "name": "stdout",
     "output_type": "stream",
     "text": [
      "[CV] . logisticregression__C=0.001, AP=0.608, AUC=0.600, total=   0.6s\n",
      "[CV] logisticregression__C=0.001 .....................................\n",
      "[CV] . logisticregression__C=0.001, AP=0.608, AUC=0.600, total=   0.6s\n",
      "[CV] logisticregression__C=0.001 .....................................\n"
     ]
    },
    {
     "name": "stderr",
     "output_type": "stream",
     "text": [
      "/scratch/kll482/anaconda3/envs/py36/lib/python3.6/site-packages/sklearn/linear_model/_logistic.py:939: ConvergenceWarning: lbfgs failed to converge (status=1):\n",
      "STOP: TOTAL NO. of ITERATIONS REACHED LIMIT.\n",
      "\n",
      "Increase the number of iterations (max_iter) or scale the data as shown in:\n",
      "    https://scikit-learn.org/stable/modules/preprocessing.html.\n",
      "Please also refer to the documentation for alternative solver options:\n",
      "    https://scikit-learn.org/stable/modules/linear_model.html#logistic-regression\n",
      "  extra_warning_msg=_LOGISTIC_SOLVER_CONVERGENCE_MSG)\n",
      "/scratch/kll482/anaconda3/envs/py36/lib/python3.6/site-packages/sklearn/linear_model/_logistic.py:939: ConvergenceWarning: lbfgs failed to converge (status=1):\n",
      "STOP: TOTAL NO. of ITERATIONS REACHED LIMIT.\n",
      "\n",
      "Increase the number of iterations (max_iter) or scale the data as shown in:\n",
      "    https://scikit-learn.org/stable/modules/preprocessing.html.\n",
      "Please also refer to the documentation for alternative solver options:\n",
      "    https://scikit-learn.org/stable/modules/linear_model.html#logistic-regression\n",
      "  extra_warning_msg=_LOGISTIC_SOLVER_CONVERGENCE_MSG)\n"
     ]
    },
    {
     "name": "stdout",
     "output_type": "stream",
     "text": [
      "[CV] . logisticregression__C=0.001, AP=0.599, AUC=0.602, total=   1.1s\n",
      "[CV] logisticregression__C=0.001 .....................................\n",
      "[CV] . logisticregression__C=0.001, AP=0.599, AUC=0.602, total=   1.1s\n",
      "[CV] logisticregression__C=0.001 .....................................\n"
     ]
    },
    {
     "name": "stderr",
     "output_type": "stream",
     "text": [
      "/scratch/kll482/anaconda3/envs/py36/lib/python3.6/site-packages/sklearn/linear_model/_logistic.py:939: ConvergenceWarning: lbfgs failed to converge (status=1):\n",
      "STOP: TOTAL NO. of ITERATIONS REACHED LIMIT.\n",
      "\n",
      "Increase the number of iterations (max_iter) or scale the data as shown in:\n",
      "    https://scikit-learn.org/stable/modules/preprocessing.html.\n",
      "Please also refer to the documentation for alternative solver options:\n",
      "    https://scikit-learn.org/stable/modules/linear_model.html#logistic-regression\n",
      "  extra_warning_msg=_LOGISTIC_SOLVER_CONVERGENCE_MSG)\n",
      "/scratch/kll482/anaconda3/envs/py36/lib/python3.6/site-packages/sklearn/linear_model/_logistic.py:939: ConvergenceWarning: lbfgs failed to converge (status=1):\n",
      "STOP: TOTAL NO. of ITERATIONS REACHED LIMIT.\n",
      "\n",
      "Increase the number of iterations (max_iter) or scale the data as shown in:\n",
      "    https://scikit-learn.org/stable/modules/preprocessing.html.\n",
      "Please also refer to the documentation for alternative solver options:\n",
      "    https://scikit-learn.org/stable/modules/linear_model.html#logistic-regression\n",
      "  extra_warning_msg=_LOGISTIC_SOLVER_CONVERGENCE_MSG)\n"
     ]
    },
    {
     "name": "stdout",
     "output_type": "stream",
     "text": [
      "[CV] . logisticregression__C=0.001, AP=0.585, AUC=0.596, total=   1.1s\n",
      "[CV] logisticregression__C=0.01 ......................................\n",
      "[CV] . logisticregression__C=0.001, AP=0.585, AUC=0.596, total=   1.1s\n",
      "[CV] logisticregression__C=0.01 ......................................\n"
     ]
    },
    {
     "name": "stderr",
     "output_type": "stream",
     "text": [
      "/scratch/kll482/anaconda3/envs/py36/lib/python3.6/site-packages/sklearn/linear_model/_logistic.py:939: ConvergenceWarning: lbfgs failed to converge (status=1):\n",
      "STOP: TOTAL NO. of ITERATIONS REACHED LIMIT.\n",
      "\n",
      "Increase the number of iterations (max_iter) or scale the data as shown in:\n",
      "    https://scikit-learn.org/stable/modules/preprocessing.html.\n",
      "Please also refer to the documentation for alternative solver options:\n",
      "    https://scikit-learn.org/stable/modules/linear_model.html#logistic-regression\n",
      "  extra_warning_msg=_LOGISTIC_SOLVER_CONVERGENCE_MSG)\n"
     ]
    },
    {
     "name": "stdout",
     "output_type": "stream",
     "text": [
      "[CV] .. logisticregression__C=0.01, AP=0.608, AUC=0.600, total=   1.1s\n",
      "[CV] logisticregression__C=0.01 ......................................\n"
     ]
    },
    {
     "name": "stderr",
     "output_type": "stream",
     "text": [
      "/scratch/kll482/anaconda3/envs/py36/lib/python3.6/site-packages/sklearn/linear_model/_logistic.py:939: ConvergenceWarning: lbfgs failed to converge (status=1):\n",
      "STOP: TOTAL NO. of ITERATIONS REACHED LIMIT.\n",
      "\n",
      "Increase the number of iterations (max_iter) or scale the data as shown in:\n",
      "    https://scikit-learn.org/stable/modules/preprocessing.html.\n",
      "Please also refer to the documentation for alternative solver options:\n",
      "    https://scikit-learn.org/stable/modules/linear_model.html#logistic-regression\n",
      "  extra_warning_msg=_LOGISTIC_SOLVER_CONVERGENCE_MSG)\n"
     ]
    },
    {
     "name": "stdout",
     "output_type": "stream",
     "text": [
      "[CV] .. logisticregression__C=0.01, AP=0.608, AUC=0.600, total=   1.1s\n",
      "[CV] logisticregression__C=0.01 ......................................\n"
     ]
    },
    {
     "name": "stderr",
     "output_type": "stream",
     "text": [
      "/scratch/kll482/anaconda3/envs/py36/lib/python3.6/site-packages/sklearn/linear_model/_logistic.py:939: ConvergenceWarning: lbfgs failed to converge (status=1):\n",
      "STOP: TOTAL NO. of ITERATIONS REACHED LIMIT.\n",
      "\n",
      "Increase the number of iterations (max_iter) or scale the data as shown in:\n",
      "    https://scikit-learn.org/stable/modules/preprocessing.html.\n",
      "Please also refer to the documentation for alternative solver options:\n",
      "    https://scikit-learn.org/stable/modules/linear_model.html#logistic-regression\n",
      "  extra_warning_msg=_LOGISTIC_SOLVER_CONVERGENCE_MSG)\n",
      "/scratch/kll482/anaconda3/envs/py36/lib/python3.6/site-packages/sklearn/linear_model/_logistic.py:939: ConvergenceWarning: lbfgs failed to converge (status=1):\n",
      "STOP: TOTAL NO. of ITERATIONS REACHED LIMIT.\n",
      "\n",
      "Increase the number of iterations (max_iter) or scale the data as shown in:\n",
      "    https://scikit-learn.org/stable/modules/preprocessing.html.\n",
      "Please also refer to the documentation for alternative solver options:\n",
      "    https://scikit-learn.org/stable/modules/linear_model.html#logistic-regression\n",
      "  extra_warning_msg=_LOGISTIC_SOLVER_CONVERGENCE_MSG)\n"
     ]
    },
    {
     "name": "stdout",
     "output_type": "stream",
     "text": [
      "[CV] .. logisticregression__C=0.01, AP=0.599, AUC=0.603, total=   1.0s\n",
      "[CV] logisticregression__C=0.01 ......................................\n",
      "[CV] .. logisticregression__C=0.01, AP=0.599, AUC=0.603, total=   1.0s\n",
      "[CV] logisticregression__C=0.01 ......................................\n"
     ]
    },
    {
     "name": "stderr",
     "output_type": "stream",
     "text": [
      "/scratch/kll482/anaconda3/envs/py36/lib/python3.6/site-packages/sklearn/linear_model/_logistic.py:939: ConvergenceWarning: lbfgs failed to converge (status=1):\n",
      "STOP: TOTAL NO. of ITERATIONS REACHED LIMIT.\n",
      "\n",
      "Increase the number of iterations (max_iter) or scale the data as shown in:\n",
      "    https://scikit-learn.org/stable/modules/preprocessing.html.\n",
      "Please also refer to the documentation for alternative solver options:\n",
      "    https://scikit-learn.org/stable/modules/linear_model.html#logistic-regression\n",
      "  extra_warning_msg=_LOGISTIC_SOLVER_CONVERGENCE_MSG)\n"
     ]
    },
    {
     "name": "stdout",
     "output_type": "stream",
     "text": [
      "[CV] .. logisticregression__C=0.01, AP=0.585, AUC=0.596, total=   1.1s\n",
      "[CV] logisticregression__C=0.1 .......................................\n"
     ]
    },
    {
     "name": "stderr",
     "output_type": "stream",
     "text": [
      "/scratch/kll482/anaconda3/envs/py36/lib/python3.6/site-packages/sklearn/linear_model/_logistic.py:939: ConvergenceWarning: lbfgs failed to converge (status=1):\n",
      "STOP: TOTAL NO. of ITERATIONS REACHED LIMIT.\n",
      "\n",
      "Increase the number of iterations (max_iter) or scale the data as shown in:\n",
      "    https://scikit-learn.org/stable/modules/preprocessing.html.\n",
      "Please also refer to the documentation for alternative solver options:\n",
      "    https://scikit-learn.org/stable/modules/linear_model.html#logistic-regression\n",
      "  extra_warning_msg=_LOGISTIC_SOLVER_CONVERGENCE_MSG)\n"
     ]
    },
    {
     "name": "stdout",
     "output_type": "stream",
     "text": [
      "[CV] .. logisticregression__C=0.01, AP=0.585, AUC=0.596, total=   1.1s\n",
      "[CV] logisticregression__C=0.1 .......................................\n"
     ]
    },
    {
     "name": "stderr",
     "output_type": "stream",
     "text": [
      "/scratch/kll482/anaconda3/envs/py36/lib/python3.6/site-packages/sklearn/linear_model/_logistic.py:939: ConvergenceWarning: lbfgs failed to converge (status=1):\n",
      "STOP: TOTAL NO. of ITERATIONS REACHED LIMIT.\n",
      "\n",
      "Increase the number of iterations (max_iter) or scale the data as shown in:\n",
      "    https://scikit-learn.org/stable/modules/preprocessing.html.\n",
      "Please also refer to the documentation for alternative solver options:\n",
      "    https://scikit-learn.org/stable/modules/linear_model.html#logistic-regression\n",
      "  extra_warning_msg=_LOGISTIC_SOLVER_CONVERGENCE_MSG)\n"
     ]
    },
    {
     "name": "stdout",
     "output_type": "stream",
     "text": [
      "[CV] ... logisticregression__C=0.1, AP=0.608, AUC=0.601, total=   1.1s\n",
      "[CV] logisticregression__C=0.1 .......................................\n"
     ]
    },
    {
     "name": "stderr",
     "output_type": "stream",
     "text": [
      "/scratch/kll482/anaconda3/envs/py36/lib/python3.6/site-packages/sklearn/linear_model/_logistic.py:939: ConvergenceWarning: lbfgs failed to converge (status=1):\n",
      "STOP: TOTAL NO. of ITERATIONS REACHED LIMIT.\n",
      "\n",
      "Increase the number of iterations (max_iter) or scale the data as shown in:\n",
      "    https://scikit-learn.org/stable/modules/preprocessing.html.\n",
      "Please also refer to the documentation for alternative solver options:\n",
      "    https://scikit-learn.org/stable/modules/linear_model.html#logistic-regression\n",
      "  extra_warning_msg=_LOGISTIC_SOLVER_CONVERGENCE_MSG)\n"
     ]
    },
    {
     "name": "stdout",
     "output_type": "stream",
     "text": [
      "[CV] ... logisticregression__C=0.1, AP=0.608, AUC=0.601, total=   1.1s\n",
      "[CV] logisticregression__C=0.1 .......................................\n"
     ]
    },
    {
     "name": "stderr",
     "output_type": "stream",
     "text": [
      "/scratch/kll482/anaconda3/envs/py36/lib/python3.6/site-packages/sklearn/linear_model/_logistic.py:939: ConvergenceWarning: lbfgs failed to converge (status=1):\n",
      "STOP: TOTAL NO. of ITERATIONS REACHED LIMIT.\n",
      "\n",
      "Increase the number of iterations (max_iter) or scale the data as shown in:\n",
      "    https://scikit-learn.org/stable/modules/preprocessing.html.\n",
      "Please also refer to the documentation for alternative solver options:\n",
      "    https://scikit-learn.org/stable/modules/linear_model.html#logistic-regression\n",
      "  extra_warning_msg=_LOGISTIC_SOLVER_CONVERGENCE_MSG)\n",
      "/scratch/kll482/anaconda3/envs/py36/lib/python3.6/site-packages/sklearn/linear_model/_logistic.py:939: ConvergenceWarning: lbfgs failed to converge (status=1):\n",
      "STOP: TOTAL NO. of ITERATIONS REACHED LIMIT.\n",
      "\n",
      "Increase the number of iterations (max_iter) or scale the data as shown in:\n",
      "    https://scikit-learn.org/stable/modules/preprocessing.html.\n",
      "Please also refer to the documentation for alternative solver options:\n",
      "    https://scikit-learn.org/stable/modules/linear_model.html#logistic-regression\n",
      "  extra_warning_msg=_LOGISTIC_SOLVER_CONVERGENCE_MSG)\n"
     ]
    },
    {
     "name": "stdout",
     "output_type": "stream",
     "text": [
      "[CV] ... logisticregression__C=0.1, AP=0.599, AUC=0.603, total=   1.1s\n",
      "[CV] logisticregression__C=0.1 .......................................\n",
      "[CV] ... logisticregression__C=0.1, AP=0.599, AUC=0.603, total=   1.1s\n",
      "[CV] logisticregression__C=0.1 .......................................\n"
     ]
    },
    {
     "name": "stderr",
     "output_type": "stream",
     "text": [
      "/scratch/kll482/anaconda3/envs/py36/lib/python3.6/site-packages/sklearn/linear_model/_logistic.py:939: ConvergenceWarning: lbfgs failed to converge (status=1):\n",
      "STOP: TOTAL NO. of ITERATIONS REACHED LIMIT.\n",
      "\n",
      "Increase the number of iterations (max_iter) or scale the data as shown in:\n",
      "    https://scikit-learn.org/stable/modules/preprocessing.html.\n",
      "Please also refer to the documentation for alternative solver options:\n",
      "    https://scikit-learn.org/stable/modules/linear_model.html#logistic-regression\n",
      "  extra_warning_msg=_LOGISTIC_SOLVER_CONVERGENCE_MSG)\n"
     ]
    },
    {
     "name": "stdout",
     "output_type": "stream",
     "text": [
      "[CV] ... logisticregression__C=0.1, AP=0.584, AUC=0.596, total=   1.1s\n",
      "[CV] logisticregression__C=1.0 .......................................\n"
     ]
    },
    {
     "name": "stderr",
     "output_type": "stream",
     "text": [
      "/scratch/kll482/anaconda3/envs/py36/lib/python3.6/site-packages/sklearn/linear_model/_logistic.py:939: ConvergenceWarning: lbfgs failed to converge (status=1):\n",
      "STOP: TOTAL NO. of ITERATIONS REACHED LIMIT.\n",
      "\n",
      "Increase the number of iterations (max_iter) or scale the data as shown in:\n",
      "    https://scikit-learn.org/stable/modules/preprocessing.html.\n",
      "Please also refer to the documentation for alternative solver options:\n",
      "    https://scikit-learn.org/stable/modules/linear_model.html#logistic-regression\n",
      "  extra_warning_msg=_LOGISTIC_SOLVER_CONVERGENCE_MSG)\n"
     ]
    },
    {
     "name": "stdout",
     "output_type": "stream",
     "text": [
      "[CV] ... logisticregression__C=0.1, AP=0.584, AUC=0.596, total=   1.1s\n",
      "[CV] logisticregression__C=1.0 .......................................\n"
     ]
    },
    {
     "name": "stderr",
     "output_type": "stream",
     "text": [
      "/scratch/kll482/anaconda3/envs/py36/lib/python3.6/site-packages/sklearn/linear_model/_logistic.py:939: ConvergenceWarning: lbfgs failed to converge (status=1):\n",
      "STOP: TOTAL NO. of ITERATIONS REACHED LIMIT.\n",
      "\n",
      "Increase the number of iterations (max_iter) or scale the data as shown in:\n",
      "    https://scikit-learn.org/stable/modules/preprocessing.html.\n",
      "Please also refer to the documentation for alternative solver options:\n",
      "    https://scikit-learn.org/stable/modules/linear_model.html#logistic-regression\n",
      "  extra_warning_msg=_LOGISTIC_SOLVER_CONVERGENCE_MSG)\n",
      "/scratch/kll482/anaconda3/envs/py36/lib/python3.6/site-packages/sklearn/linear_model/_logistic.py:939: ConvergenceWarning: lbfgs failed to converge (status=1):\n",
      "STOP: TOTAL NO. of ITERATIONS REACHED LIMIT.\n",
      "\n",
      "Increase the number of iterations (max_iter) or scale the data as shown in:\n",
      "    https://scikit-learn.org/stable/modules/preprocessing.html.\n",
      "Please also refer to the documentation for alternative solver options:\n",
      "    https://scikit-learn.org/stable/modules/linear_model.html#logistic-regression\n",
      "  extra_warning_msg=_LOGISTIC_SOLVER_CONVERGENCE_MSG)\n"
     ]
    },
    {
     "name": "stdout",
     "output_type": "stream",
     "text": [
      "[CV] ... logisticregression__C=1.0, AP=0.609, AUC=0.601, total=   1.0s\n",
      "[CV] logisticregression__C=1.0 .......................................\n",
      "[CV] ... logisticregression__C=1.0, AP=0.609, AUC=0.601, total=   1.0s\n",
      "[CV] logisticregression__C=1.0 .......................................\n"
     ]
    },
    {
     "name": "stderr",
     "output_type": "stream",
     "text": [
      "/scratch/kll482/anaconda3/envs/py36/lib/python3.6/site-packages/sklearn/linear_model/_logistic.py:939: ConvergenceWarning: lbfgs failed to converge (status=1):\n",
      "STOP: TOTAL NO. of ITERATIONS REACHED LIMIT.\n",
      "\n",
      "Increase the number of iterations (max_iter) or scale the data as shown in:\n",
      "    https://scikit-learn.org/stable/modules/preprocessing.html.\n",
      "Please also refer to the documentation for alternative solver options:\n",
      "    https://scikit-learn.org/stable/modules/linear_model.html#logistic-regression\n",
      "  extra_warning_msg=_LOGISTIC_SOLVER_CONVERGENCE_MSG)\n",
      "/scratch/kll482/anaconda3/envs/py36/lib/python3.6/site-packages/sklearn/linear_model/_logistic.py:939: ConvergenceWarning: lbfgs failed to converge (status=1):\n",
      "STOP: TOTAL NO. of ITERATIONS REACHED LIMIT.\n",
      "\n",
      "Increase the number of iterations (max_iter) or scale the data as shown in:\n",
      "    https://scikit-learn.org/stable/modules/preprocessing.html.\n",
      "Please also refer to the documentation for alternative solver options:\n",
      "    https://scikit-learn.org/stable/modules/linear_model.html#logistic-regression\n",
      "  extra_warning_msg=_LOGISTIC_SOLVER_CONVERGENCE_MSG)\n"
     ]
    },
    {
     "name": "stdout",
     "output_type": "stream",
     "text": [
      "[CV] ... logisticregression__C=1.0, AP=0.598, AUC=0.603, total=   1.0s\n",
      "[CV] logisticregression__C=1.0 .......................................\n",
      "[CV] ... logisticregression__C=1.0, AP=0.598, AUC=0.603, total=   1.0s\n",
      "[CV] logisticregression__C=1.0 .......................................\n"
     ]
    },
    {
     "name": "stderr",
     "output_type": "stream",
     "text": [
      "/scratch/kll482/anaconda3/envs/py36/lib/python3.6/site-packages/sklearn/linear_model/_logistic.py:939: ConvergenceWarning: lbfgs failed to converge (status=1):\n",
      "STOP: TOTAL NO. of ITERATIONS REACHED LIMIT.\n",
      "\n",
      "Increase the number of iterations (max_iter) or scale the data as shown in:\n",
      "    https://scikit-learn.org/stable/modules/preprocessing.html.\n",
      "Please also refer to the documentation for alternative solver options:\n",
      "    https://scikit-learn.org/stable/modules/linear_model.html#logistic-regression\n",
      "  extra_warning_msg=_LOGISTIC_SOLVER_CONVERGENCE_MSG)\n"
     ]
    },
    {
     "name": "stdout",
     "output_type": "stream",
     "text": [
      "[CV] ... logisticregression__C=1.0, AP=0.584, AUC=0.596, total=   1.0s\n",
      "[CV] logisticregression__C=10.0 ......................................\n"
     ]
    },
    {
     "name": "stderr",
     "output_type": "stream",
     "text": [
      "/scratch/kll482/anaconda3/envs/py36/lib/python3.6/site-packages/sklearn/linear_model/_logistic.py:939: ConvergenceWarning: lbfgs failed to converge (status=1):\n",
      "STOP: TOTAL NO. of ITERATIONS REACHED LIMIT.\n",
      "\n",
      "Increase the number of iterations (max_iter) or scale the data as shown in:\n",
      "    https://scikit-learn.org/stable/modules/preprocessing.html.\n",
      "Please also refer to the documentation for alternative solver options:\n",
      "    https://scikit-learn.org/stable/modules/linear_model.html#logistic-regression\n",
      "  extra_warning_msg=_LOGISTIC_SOLVER_CONVERGENCE_MSG)\n"
     ]
    },
    {
     "name": "stdout",
     "output_type": "stream",
     "text": [
      "[CV] ... logisticregression__C=1.0, AP=0.584, AUC=0.596, total=   1.0s\n",
      "[CV] logisticregression__C=10.0 ......................................\n"
     ]
    },
    {
     "name": "stderr",
     "output_type": "stream",
     "text": [
      "/scratch/kll482/anaconda3/envs/py36/lib/python3.6/site-packages/sklearn/linear_model/_logistic.py:939: ConvergenceWarning: lbfgs failed to converge (status=1):\n",
      "STOP: TOTAL NO. of ITERATIONS REACHED LIMIT.\n",
      "\n",
      "Increase the number of iterations (max_iter) or scale the data as shown in:\n",
      "    https://scikit-learn.org/stable/modules/preprocessing.html.\n",
      "Please also refer to the documentation for alternative solver options:\n",
      "    https://scikit-learn.org/stable/modules/linear_model.html#logistic-regression\n",
      "  extra_warning_msg=_LOGISTIC_SOLVER_CONVERGENCE_MSG)\n"
     ]
    },
    {
     "name": "stdout",
     "output_type": "stream",
     "text": [
      "[CV] .. logisticregression__C=10.0, AP=0.609, AUC=0.601, total=   1.1s\n",
      "[CV] logisticregression__C=10.0 ......................................\n"
     ]
    },
    {
     "name": "stderr",
     "output_type": "stream",
     "text": [
      "/scratch/kll482/anaconda3/envs/py36/lib/python3.6/site-packages/sklearn/linear_model/_logistic.py:939: ConvergenceWarning: lbfgs failed to converge (status=1):\n",
      "STOP: TOTAL NO. of ITERATIONS REACHED LIMIT.\n",
      "\n",
      "Increase the number of iterations (max_iter) or scale the data as shown in:\n",
      "    https://scikit-learn.org/stable/modules/preprocessing.html.\n",
      "Please also refer to the documentation for alternative solver options:\n",
      "    https://scikit-learn.org/stable/modules/linear_model.html#logistic-regression\n",
      "  extra_warning_msg=_LOGISTIC_SOLVER_CONVERGENCE_MSG)\n"
     ]
    },
    {
     "name": "stdout",
     "output_type": "stream",
     "text": [
      "[CV] .. logisticregression__C=10.0, AP=0.609, AUC=0.601, total=   1.1s\n",
      "[CV] logisticregression__C=10.0 ......................................\n"
     ]
    },
    {
     "name": "stderr",
     "output_type": "stream",
     "text": [
      "/scratch/kll482/anaconda3/envs/py36/lib/python3.6/site-packages/sklearn/linear_model/_logistic.py:939: ConvergenceWarning: lbfgs failed to converge (status=1):\n",
      "STOP: TOTAL NO. of ITERATIONS REACHED LIMIT.\n",
      "\n",
      "Increase the number of iterations (max_iter) or scale the data as shown in:\n",
      "    https://scikit-learn.org/stable/modules/preprocessing.html.\n",
      "Please also refer to the documentation for alternative solver options:\n",
      "    https://scikit-learn.org/stable/modules/linear_model.html#logistic-regression\n",
      "  extra_warning_msg=_LOGISTIC_SOLVER_CONVERGENCE_MSG)\n",
      "/scratch/kll482/anaconda3/envs/py36/lib/python3.6/site-packages/sklearn/linear_model/_logistic.py:939: ConvergenceWarning: lbfgs failed to converge (status=1):\n",
      "STOP: TOTAL NO. of ITERATIONS REACHED LIMIT.\n",
      "\n",
      "Increase the number of iterations (max_iter) or scale the data as shown in:\n",
      "    https://scikit-learn.org/stable/modules/preprocessing.html.\n",
      "Please also refer to the documentation for alternative solver options:\n",
      "    https://scikit-learn.org/stable/modules/linear_model.html#logistic-regression\n",
      "  extra_warning_msg=_LOGISTIC_SOLVER_CONVERGENCE_MSG)\n"
     ]
    },
    {
     "name": "stdout",
     "output_type": "stream",
     "text": [
      "[CV] .. logisticregression__C=10.0, AP=0.598, AUC=0.602, total=   1.1s\n",
      "[CV] logisticregression__C=10.0 ......................................\n",
      "[CV] .. logisticregression__C=10.0, AP=0.598, AUC=0.602, total=   1.1s\n",
      "[CV] logisticregression__C=10.0 ......................................\n"
     ]
    },
    {
     "name": "stderr",
     "output_type": "stream",
     "text": [
      "/scratch/kll482/anaconda3/envs/py36/lib/python3.6/site-packages/sklearn/linear_model/_logistic.py:939: ConvergenceWarning: lbfgs failed to converge (status=1):\n",
      "STOP: TOTAL NO. of ITERATIONS REACHED LIMIT.\n",
      "\n",
      "Increase the number of iterations (max_iter) or scale the data as shown in:\n",
      "    https://scikit-learn.org/stable/modules/preprocessing.html.\n",
      "Please also refer to the documentation for alternative solver options:\n",
      "    https://scikit-learn.org/stable/modules/linear_model.html#logistic-regression\n",
      "  extra_warning_msg=_LOGISTIC_SOLVER_CONVERGENCE_MSG)\n",
      "[Parallel(n_jobs=1)]: Done  24 out of  24 | elapsed:   19.1s finished\n",
      "/scratch/kll482/anaconda3/envs/py36/lib/python3.6/site-packages/sklearn/linear_model/_logistic.py:939: ConvergenceWarning: lbfgs failed to converge (status=1):\n",
      "STOP: TOTAL NO. of ITERATIONS REACHED LIMIT.\n",
      "\n",
      "Increase the number of iterations (max_iter) or scale the data as shown in:\n",
      "    https://scikit-learn.org/stable/modules/preprocessing.html.\n",
      "Please also refer to the documentation for alternative solver options:\n",
      "    https://scikit-learn.org/stable/modules/linear_model.html#logistic-regression\n",
      "  extra_warning_msg=_LOGISTIC_SOLVER_CONVERGENCE_MSG)\n",
      "[Parallel(n_jobs=1)]: Done  24 out of  24 | elapsed:   19.1s finished\n"
     ]
    },
    {
     "name": "stdout",
     "output_type": "stream",
     "text": [
      "[CV] .. logisticregression__C=10.0, AP=0.584, AUC=0.596, total=   1.0s\n",
      "[CV] .. logisticregression__C=10.0, AP=0.584, AUC=0.596, total=   1.0s\n",
      "average_precision_score: 0.16182289440996606\n",
      "roc_auc_score: 0.5998495182142933\n"
     ]
    },
    {
     "name": "stderr",
     "output_type": "stream",
     "text": [
      "/scratch/kll482/anaconda3/envs/py36/lib/python3.6/site-packages/sklearn/linear_model/_logistic.py:939: ConvergenceWarning: lbfgs failed to converge (status=1):\n",
      "STOP: TOTAL NO. of ITERATIONS REACHED LIMIT.\n",
      "\n",
      "Increase the number of iterations (max_iter) or scale the data as shown in:\n",
      "    https://scikit-learn.org/stable/modules/preprocessing.html.\n",
      "Please also refer to the documentation for alternative solver options:\n",
      "    https://scikit-learn.org/stable/modules/linear_model.html#logistic-regression\n",
      "  extra_warning_msg=_LOGISTIC_SOLVER_CONVERGENCE_MSG)\n"
     ]
    },
    {
     "name": "stdout",
     "output_type": "stream",
     "text": [
      "average_precision_score: 0.16182289440996606\n",
      "roc_auc_score: 0.5998495182142933\n"
     ]
    },
    {
     "name": "stderr",
     "output_type": "stream",
     "text": [
      "/scratch/kll482/anaconda3/envs/py36/lib/python3.6/site-packages/sklearn/linear_model/_logistic.py:939: ConvergenceWarning: lbfgs failed to converge (status=1):\n",
      "STOP: TOTAL NO. of ITERATIONS REACHED LIMIT.\n",
      "\n",
      "Increase the number of iterations (max_iter) or scale the data as shown in:\n",
      "    https://scikit-learn.org/stable/modules/preprocessing.html.\n",
      "Please also refer to the documentation for alternative solver options:\n",
      "    https://scikit-learn.org/stable/modules/linear_model.html#logistic-regression\n",
      "  extra_warning_msg=_LOGISTIC_SOLVER_CONVERGENCE_MSG)\n"
     ]
    }
   ],
   "source": [
    "# re-sampling\n",
    "rus = RandomUnderSampler(random_state=123)\n",
    "\n",
    "# ros = RandomOverSampler(random_state=123)\n",
    "# sm = SMOTE(random_state=123, k_neighbors=5)\n",
    "\n",
    "# model pipeline\n",
    "elasticnet=SGDClassifier()\n",
    "en_model = make_pipeline(\n",
    "    elasticnet\n",
    ")\n",
    "\n",
    "lr = LogisticRegression()\n",
    "lr_model = make_pipeline(\n",
    "    lr\n",
    ")\n",
    "\n",
    "svc=SVC(probability=True)\n",
    "SVC_model = make_pipeline(\n",
    "    svc\n",
    ")\n",
    "\n",
    "xgbc = XGBClassifier()\n",
    "XGBC_model = make_pipeline(\n",
    "    xgbc\n",
    ")\n",
    "\n",
    "NB_model = make_pipeline(\n",
    "    GaussianNB\n",
    ")\n",
    "\n",
    "scoring = {'AUC': 'roc_auc', 'AP': 'average_precision'}\n",
    "param_grid_en = {'sgdclassifier__penalty': ['elasticnet'],\n",
    "                 'sgdclassifier__l1_ratio': [0, 0.2, 1],\n",
    "                 'sgdclassifier__alpha': 10.0 ** np.array([-6, -5, -4, -3, -2, -1, 0, 1])\n",
    "}\n",
    "\n",
    "param_grid_lr = {'logisticregression__C': 10.0 ** np.array([-6, -5, -4, -3, -2, -1, 0, 1])\n",
    "}\n",
    "\n",
    "param_grid_nb = {'gaussiannb__C': 10.0 ** np.array([-6, -5, -4, -3, -2, -1, 0, 1])\n",
    "}\n",
    "\n",
    "param_grid_xgb ={\n",
    "              'xgbclassifier__learning_rate': 10.0 ** np.array([-3, -2, -1, 0, 1]),\n",
    "              'xgbclassifier__scale_pos_weight': [8.732650083143856],\n",
    "              'xgbclassifier__n_estimators': [1000],\n",
    "              'xgbclassifier__max_depth': [8],\n",
    "}\n",
    "\n",
    "param_grid_svc ={\n",
    "              'svc__kernel': ['linear'],\n",
    "              'svc__C': 10.0 ** np.array([-2, -1, 0]),\n",
    "              'svc__gamma': 10.0 ** np.array([-4, -3, -2, -1, 0])\n",
    "}\n",
    "\n",
    "grid = GridSearchCV(lr_model,\n",
    "             param_grid=param_grid_lr,\n",
    "             cv=3,\n",
    "             scoring=scoring,\n",
    "             refit='AUC',\n",
    "             verbose=10)\n",
    "\n",
    "grid.fit(train_X, train_y)\n",
    "evaluate(grid, val_X, val_y)"
   ]
  },
  {
   "cell_type": "code",
   "execution_count": 32,
   "metadata": {},
   "outputs": [
    {
     "data": {
      "text/plain": [
       "{'logisticregression__C': 0.1}"
      ]
     },
     "execution_count": 32,
     "metadata": {},
     "output_type": "execute_result"
    },
    {
     "data": {
      "text/plain": [
       "{'logisticregression__C': 0.1}"
      ]
     },
     "execution_count": 32,
     "metadata": {},
     "output_type": "execute_result"
    }
   ],
   "source": [
    "grid.best_params_"
   ]
  },
  {
   "cell_type": "code",
   "execution_count": 24,
   "metadata": {},
   "outputs": [
    {
     "data": {
      "text/plain": [
       "['fake-reviews/Model/BOW_result/xgb_1gram_200_682.pkl']"
      ]
     },
     "execution_count": 24,
     "metadata": {},
     "output_type": "execute_result"
    },
    {
     "data": {
      "text/plain": [
       "['fake-reviews/Model/BOW_result/xgb_1gram_200_682.pkl']"
      ]
     },
     "execution_count": 24,
     "metadata": {},
     "output_type": "execute_result"
    }
   ],
   "source": [
    "joblib.dump(grid, 'fake-reviews/Model/BOW_result/xgb_1gram_200_682.pkl')"
   ]
  },
  {
   "cell_type": "code",
   "execution_count": null,
   "metadata": {},
   "outputs": [],
   "source": [
    "joblib.dump(grid, 'fake-reviews/Model/GLOVE_result/xgb_.pkl')"
   ]
  },
  {
   "cell_type": "code",
   "execution_count": null,
   "metadata": {},
   "outputs": [],
   "source": []
  },
  {
   "cell_type": "code",
   "execution_count": 52,
   "metadata": {},
   "outputs": [],
   "source": [
    "grid = joblib.load('fake-reviews/Model/BOW_result/xgb_1gram_1000_696.pkl')"
   ]
  },
  {
   "cell_type": "code",
   "execution_count": 53,
   "metadata": {},
   "outputs": [
    {
     "name": "stdout",
     "output_type": "stream",
     "text": [
      "average_precision_score: 0.19726273916424042\n",
      "roc_auc_score: 0.6959483450342763\n",
      "average_precision_score: 0.19726273916424042\n",
      "roc_auc_score: 0.6959483450342763\n"
     ]
    }
   ],
   "source": [
    "evaluate(grid, val_X, val_y)"
   ]
  },
  {
   "cell_type": "markdown",
   "metadata": {},
   "source": [
    "## 12. Testing"
   ]
  },
  {
   "cell_type": "code",
   "execution_count": null,
   "metadata": {},
   "outputs": [],
   "source": []
  },
  {
   "cell_type": "markdown",
   "metadata": {},
   "source": [
    "## 13. Sentiment Analysis"
   ]
  },
  {
   "cell_type": "code",
   "execution_count": 106,
   "metadata": {},
   "outputs": [],
   "source": [
    "from textblob import TextBlob"
   ]
  },
  {
   "cell_type": "code",
   "execution_count": 117,
   "metadata": {},
   "outputs": [],
   "source": [
    "def sentiment_func(data):\n",
    "    sentiment_array = np.zeros(data.shape[0])\n",
    "    for i, sentence in tqdm.tqdm_notebook(enumerate(data[\"text\"])):\n",
    "        blob = TextBlob(sentence)\n",
    "        sentiment_array[i] = blob.sentiment.polarity\n",
    "    return sentiment_array"
   ]
  },
  {
   "cell_type": "code",
   "execution_count": null,
   "metadata": {},
   "outputs": [],
   "source": [
    "train_sentiment = sentiment_func(train_data)"
   ]
  },
  {
   "cell_type": "code",
   "execution_count": 120,
   "metadata": {},
   "outputs": [
    {
     "name": "stderr",
     "output_type": "stream",
     "text": [
      "/scratch/kll482/anaconda3/envs/py36/lib/python3.6/site-packages/ipykernel_launcher.py:3: TqdmDeprecationWarning: This function will be removed in tqdm==5.0.0\n",
      "Please use `tqdm.notebook.tqdm` instead of `tqdm.tqdm_notebook`\n",
      "  This is separate from the ipykernel package so we can avoid doing imports until\n"
     ]
    },
    {
     "data": {
      "application/vnd.jupyter.widget-view+json": {
       "model_id": "dac597208a354d43baf1e507b9e0998a",
       "version_major": 2,
       "version_minor": 0
      },
      "text/plain": [
       "HBox(children=(FloatProgress(value=1.0, bar_style='info', max=1.0), HTML(value='')))"
      ]
     },
     "metadata": {},
     "output_type": "display_data"
    },
    {
     "name": "stdout",
     "output_type": "stream",
     "text": [
      "\n"
     ]
    }
   ],
   "source": [
    "test_sentiment = sentiment_func(test_data)"
   ]
  },
  {
   "cell_type": "code",
   "execution_count": 121,
   "metadata": {},
   "outputs": [],
   "source": [
    "# np.save(\"fake-reviews/train_sentiment.npy\", train_sentiment)\n",
    "np.save(\"fake-reviews/test_sentiment.npy\", test_sentiment)"
   ]
  },
  {
   "cell_type": "code",
   "execution_count": null,
   "metadata": {},
   "outputs": [],
   "source": []
  }
 ],
 "metadata": {
  "kernelspec": {
   "display_name": "Python 3",
   "language": "python",
   "name": "python3"
  },
  "language_info": {
   "codemirror_mode": {
    "name": "ipython",
    "version": 3
   },
   "file_extension": ".py",
   "mimetype": "text/x-python",
   "name": "python",
   "nbconvert_exporter": "python",
   "pygments_lexer": "ipython3",
   "version": "3.8.3"
  },
  "latex_envs": {
   "LaTeX_envs_menu_present": true,
   "autoclose": false,
   "autocomplete": true,
   "bibliofile": "biblio.bib",
   "cite_by": "apalike",
   "current_citInitial": 1,
   "eqLabelWithNumbers": true,
   "eqNumInitial": 1,
   "hotkeys": {
    "equation": "Ctrl-E",
    "itemize": "Ctrl-I"
   },
   "labels_anchors": false,
   "latex_user_defs": false,
   "report_style_numbering": false,
   "user_envs_cfg": false
  },
  "toc": {
   "base_numbering": 1,
   "nav_menu": {},
   "number_sections": true,
   "sideBar": true,
   "skip_h1_title": false,
   "title_cell": "Table of Contents",
   "title_sidebar": "Contents",
   "toc_cell": false,
   "toc_position": {},
   "toc_section_display": true,
   "toc_window_display": false
  },
  "varInspector": {
   "cols": {
    "lenName": 16,
    "lenType": 16,
    "lenVar": 40
   },
   "kernels_config": {
    "python": {
     "delete_cmd_postfix": "",
     "delete_cmd_prefix": "del ",
     "library": "var_list.py",
     "varRefreshCmd": "print(var_dic_list())"
    },
    "r": {
     "delete_cmd_postfix": ") ",
     "delete_cmd_prefix": "rm(",
     "library": "var_list.r",
     "varRefreshCmd": "cat(var_dic_list()) "
    }
   },
   "types_to_exclude": [
    "module",
    "function",
    "builtin_function_or_method",
    "instance",
    "_Feature"
   ],
   "window_display": false
  }
 },
 "nbformat": 4,
 "nbformat_minor": 2
}
