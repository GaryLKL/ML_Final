{
 "cells": [
  {
   "cell_type": "markdown",
   "metadata": {},
   "source": [
    "<center><h1><span style=\"color: #f2cf4a; font-size: 1.2em; line-height:40px\">DS-GA 1003 Machine Learning&nbsp;&nbsp;&nbsp;&nbsp;&nbsp;&nbsp;<br/>Yelp's Fake Review Detection</span></h1></center>\n",
    "\n",
    "<center><h3>Members: Kuan-Lin Liu, Hao-Ning Wu</h3></center>\n",
    "<a id='Top'></a>"
   ]
  },
  {
   "cell_type": "markdown",
   "metadata": {},
   "source": [
    "## Table of Contents\n",
    "\n",
    "* [Reading in Data](#Reading-in-Data)\n",
    "* [Raw Data Exploration](#Raw-Data-Exploration)\n",
    "* [Feature Pre-processing](#Feature-Pre-processing)\n",
    "* [Pre-processed Feature Visualization](#Pre-processed-Feature-Visualization)\n",
    "* [Model Tuning](#Model-Tuning)\n",
    "* [Training with Full Dataset](#Training-with-Full-Dataset)"
   ]
  },
  {
   "cell_type": "markdown",
   "metadata": {
    "ExecuteTime": {
     "end_time": "2020-05-03T15:50:10.241059Z",
     "start_time": "2020-05-03T15:50:10.238971Z"
    }
   },
   "source": [
    "<a id='Reading-in-Data'></a>\n",
    "## 1. Reading in Data"
   ]
  },
  {
   "cell_type": "code",
   "execution_count": 1,
   "metadata": {
    "ExecuteTime": {
     "end_time": "2020-05-07T12:02:00.506126Z",
     "start_time": "2020-05-07T12:02:00.145610Z"
    }
   },
   "outputs": [],
   "source": [
    "import pandas as pd, numpy as np\n",
    "import matplotlib.pyplot as plt\n",
    "import joblib\n",
    "import seaborn as sns\n",
    "\n",
    "%matplotlib inline"
   ]
  },
  {
   "cell_type": "code",
   "execution_count": 2,
   "metadata": {
    "ExecuteTime": {
     "end_time": "2020-05-07T10:32:17.469260Z",
     "start_time": "2020-05-07T10:32:17.466913Z"
    }
   },
   "outputs": [],
   "source": [
    "data_path = \"data/\""
   ]
  },
  {
   "cell_type": "code",
   "execution_count": 3,
   "metadata": {
    "ExecuteTime": {
     "end_time": "2020-05-07T10:38:32.493384Z",
     "start_time": "2020-05-07T10:38:30.372408Z"
    }
   },
   "outputs": [
    {
     "data": {
      "text/html": [
       "<div>\n",
       "<style scoped>\n",
       "    .dataframe tbody tr th:only-of-type {\n",
       "        vertical-align: middle;\n",
       "    }\n",
       "\n",
       "    .dataframe tbody tr th {\n",
       "        vertical-align: top;\n",
       "    }\n",
       "\n",
       "    .dataframe thead th {\n",
       "        text-align: right;\n",
       "    }\n",
       "</style>\n",
       "<table border=\"1\" class=\"dataframe\">\n",
       "  <thead>\n",
       "    <tr style=\"text-align: right;\">\n",
       "      <th></th>\n",
       "      <th>ex_id</th>\n",
       "      <th>user_id</th>\n",
       "      <th>prod_id</th>\n",
       "      <th>rating</th>\n",
       "      <th>label</th>\n",
       "      <th>date</th>\n",
       "      <th>review</th>\n",
       "      <th>set</th>\n",
       "    </tr>\n",
       "  </thead>\n",
       "  <tbody>\n",
       "    <tr>\n",
       "      <th>0</th>\n",
       "      <td>0</td>\n",
       "      <td>923</td>\n",
       "      <td>0</td>\n",
       "      <td>3.0</td>\n",
       "      <td>1</td>\n",
       "      <td>2014-12-08</td>\n",
       "      <td>The food at snack is a selection of popular Gr...</td>\n",
       "      <td>train</td>\n",
       "    </tr>\n",
       "    <tr>\n",
       "      <th>1</th>\n",
       "      <td>1</td>\n",
       "      <td>924</td>\n",
       "      <td>0</td>\n",
       "      <td>3.0</td>\n",
       "      <td>1</td>\n",
       "      <td>2013-05-16</td>\n",
       "      <td>This little place in Soho is wonderful. I had ...</td>\n",
       "      <td>train</td>\n",
       "    </tr>\n",
       "    <tr>\n",
       "      <th>2</th>\n",
       "      <td>2</td>\n",
       "      <td>925</td>\n",
       "      <td>0</td>\n",
       "      <td>4.0</td>\n",
       "      <td>1</td>\n",
       "      <td>2013-07-01</td>\n",
       "      <td>ordered lunch for 15 from Snack last Friday.  ...</td>\n",
       "      <td>train</td>\n",
       "    </tr>\n",
       "    <tr>\n",
       "      <th>3</th>\n",
       "      <td>3</td>\n",
       "      <td>926</td>\n",
       "      <td>0</td>\n",
       "      <td>4.0</td>\n",
       "      <td>1</td>\n",
       "      <td>2011-07-28</td>\n",
       "      <td>This is a beautiful quaint little restaurant o...</td>\n",
       "      <td>train</td>\n",
       "    </tr>\n",
       "    <tr>\n",
       "      <th>4</th>\n",
       "      <td>4</td>\n",
       "      <td>927</td>\n",
       "      <td>0</td>\n",
       "      <td>4.0</td>\n",
       "      <td>1</td>\n",
       "      <td>2010-11-01</td>\n",
       "      <td>Snack is great place for a  casual sit down lu...</td>\n",
       "      <td>train</td>\n",
       "    </tr>\n",
       "  </tbody>\n",
       "</table>\n",
       "</div>"
      ],
      "text/plain": [
       "   ex_id  user_id  prod_id  rating  label        date  \\\n",
       "0      0      923        0     3.0      1  2014-12-08   \n",
       "1      1      924        0     3.0      1  2013-05-16   \n",
       "2      2      925        0     4.0      1  2013-07-01   \n",
       "3      3      926        0     4.0      1  2011-07-28   \n",
       "4      4      927        0     4.0      1  2010-11-01   \n",
       "\n",
       "                                              review    set  \n",
       "0  The food at snack is a selection of popular Gr...  train  \n",
       "1  This little place in Soho is wonderful. I had ...  train  \n",
       "2  ordered lunch for 15 from Snack last Friday.  ...  train  \n",
       "3  This is a beautiful quaint little restaurant o...  train  \n",
       "4  Snack is great place for a  casual sit down lu...  train  "
      ]
     },
     "execution_count": 3,
     "metadata": {},
     "output_type": "execute_result"
    }
   ],
   "source": [
    "train = pd.read_csv(data_path+\"train.csv\")\n",
    "val = pd.read_csv(data_path+\"dev.csv\")\n",
    "test = pd.read_csv(data_path+\"test_no_label.csv\")\n",
    "train['set']='train'\n",
    "val['set']='val'\n",
    "test['set']='test'\n",
    "train.head()"
   ]
  },
  {
   "cell_type": "code",
   "execution_count": 4,
   "metadata": {
    "ExecuteTime": {
     "end_time": "2020-05-07T10:38:32.565693Z",
     "start_time": "2020-05-07T10:38:32.557290Z"
    }
   },
   "outputs": [
    {
     "data": {
      "text/html": [
       "<div>\n",
       "<style scoped>\n",
       "    .dataframe tbody tr th:only-of-type {\n",
       "        vertical-align: middle;\n",
       "    }\n",
       "\n",
       "    .dataframe tbody tr th {\n",
       "        vertical-align: top;\n",
       "    }\n",
       "\n",
       "    .dataframe thead th {\n",
       "        text-align: right;\n",
       "    }\n",
       "</style>\n",
       "<table border=\"1\" class=\"dataframe\">\n",
       "  <thead>\n",
       "    <tr style=\"text-align: right;\">\n",
       "      <th></th>\n",
       "      <th>ex_id</th>\n",
       "      <th>user_id</th>\n",
       "      <th>prod_id</th>\n",
       "      <th>rating</th>\n",
       "      <th>label</th>\n",
       "      <th>date</th>\n",
       "      <th>review</th>\n",
       "      <th>set</th>\n",
       "    </tr>\n",
       "  </thead>\n",
       "  <tbody>\n",
       "    <tr>\n",
       "      <th>0</th>\n",
       "      <td>11</td>\n",
       "      <td>934</td>\n",
       "      <td>0</td>\n",
       "      <td>5.0</td>\n",
       "      <td>1</td>\n",
       "      <td>2014-01-20</td>\n",
       "      <td>all around good place, cozy, I came in and did...</td>\n",
       "      <td>val</td>\n",
       "    </tr>\n",
       "    <tr>\n",
       "      <th>1</th>\n",
       "      <td>17</td>\n",
       "      <td>940</td>\n",
       "      <td>0</td>\n",
       "      <td>4.0</td>\n",
       "      <td>0</td>\n",
       "      <td>2014-09-16</td>\n",
       "      <td>For lunch, my friend and I had: -Lamb sandwich...</td>\n",
       "      <td>val</td>\n",
       "    </tr>\n",
       "    <tr>\n",
       "      <th>2</th>\n",
       "      <td>20</td>\n",
       "      <td>943</td>\n",
       "      <td>0</td>\n",
       "      <td>5.0</td>\n",
       "      <td>0</td>\n",
       "      <td>2014-05-24</td>\n",
       "      <td>Some good Big Greek cooking!! Came to City on ...</td>\n",
       "      <td>val</td>\n",
       "    </tr>\n",
       "    <tr>\n",
       "      <th>3</th>\n",
       "      <td>30</td>\n",
       "      <td>953</td>\n",
       "      <td>0</td>\n",
       "      <td>4.0</td>\n",
       "      <td>0</td>\n",
       "      <td>2013-10-17</td>\n",
       "      <td>So... as you may notice from some of my other ...</td>\n",
       "      <td>val</td>\n",
       "    </tr>\n",
       "    <tr>\n",
       "      <th>4</th>\n",
       "      <td>43</td>\n",
       "      <td>966</td>\n",
       "      <td>0</td>\n",
       "      <td>3.0</td>\n",
       "      <td>0</td>\n",
       "      <td>2012-12-19</td>\n",
       "      <td>I don't understand the whole \"You can't order ...</td>\n",
       "      <td>val</td>\n",
       "    </tr>\n",
       "  </tbody>\n",
       "</table>\n",
       "</div>"
      ],
      "text/plain": [
       "   ex_id  user_id  prod_id  rating  label        date  \\\n",
       "0     11      934        0     5.0      1  2014-01-20   \n",
       "1     17      940        0     4.0      0  2014-09-16   \n",
       "2     20      943        0     5.0      0  2014-05-24   \n",
       "3     30      953        0     4.0      0  2013-10-17   \n",
       "4     43      966        0     3.0      0  2012-12-19   \n",
       "\n",
       "                                              review  set  \n",
       "0  all around good place, cozy, I came in and did...  val  \n",
       "1  For lunch, my friend and I had: -Lamb sandwich...  val  \n",
       "2  Some good Big Greek cooking!! Came to City on ...  val  \n",
       "3  So... as you may notice from some of my other ...  val  \n",
       "4  I don't understand the whole \"You can't order ...  val  "
      ]
     },
     "execution_count": 4,
     "metadata": {},
     "output_type": "execute_result"
    }
   ],
   "source": [
    "val.head()"
   ]
  },
  {
   "cell_type": "markdown",
   "metadata": {},
   "source": [
    "Merge train and val datasets for exploration."
   ]
  },
  {
   "cell_type": "code",
   "execution_count": 17,
   "metadata": {
    "ExecuteTime": {
     "end_time": "2020-05-07T10:38:40.996304Z",
     "start_time": "2020-05-07T10:38:40.945910Z"
    }
   },
   "outputs": [],
   "source": [
    "data = pd.concat([train, val, test])\n",
    "data_raw = pd.concat([train, val])"
   ]
  },
  {
   "cell_type": "code",
   "execution_count": 18,
   "metadata": {
    "ExecuteTime": {
     "end_time": "2020-05-07T10:38:41.475828Z",
     "start_time": "2020-05-07T10:38:41.471122Z"
    }
   },
   "outputs": [
    {
     "name": "stdout",
     "output_type": "stream",
     "text": [
      "Full data dimension: (286792, 8)\n",
      "Training data dimension: (250874, 8)\n",
      "Validation data dimension: (35918, 8)\n",
      "---\n",
      "ex_id        int64\n",
      "user_id      int64\n",
      "prod_id      int64\n",
      "rating     float64\n",
      "label        int64\n",
      "date        object\n",
      "review      object\n",
      "set         object\n",
      "dtype: object\n"
     ]
    }
   ],
   "source": [
    "print(\"Full data dimension: {}\".format(data_raw.shape))\n",
    "print(\"Training data dimension: {}\".format(train.shape))\n",
    "print(\"Validation data dimension: {}\".format(val.shape))\n",
    "print(\"---\")\n",
    "print(data_raw.dtypes)"
   ]
  },
  {
   "cell_type": "markdown",
   "metadata": {
    "ExecuteTime": {
     "end_time": "2020-05-07T10:39:06.676630Z",
     "start_time": "2020-05-07T10:39:06.672719Z"
    }
   },
   "source": [
    "The training data contains <font color='blue'>250,874</font> rows and the testing data contains <font color='blue'>35,918</font> rows. They both have <font color='blue'>7</font> columns.\n",
    "\n",
    "[Back to Top](#Top)"
   ]
  },
  {
   "cell_type": "markdown",
   "metadata": {},
   "source": [
    "<a id='Raw-Data-Exploration'></a>\n",
    "## 2. Raw Data Exploration\n",
    "### 2.1. What is ex_id?\n",
    "From the length of the unique data in ex_id, I guess it represents an index of the row.\n",
    "Besides, I guess user_id and prod_id mean the index of users and products (items)."
   ]
  },
  {
   "cell_type": "code",
   "execution_count": 19,
   "metadata": {
    "ExecuteTime": {
     "end_time": "2020-05-07T10:48:19.024506Z",
     "start_time": "2020-05-07T10:48:18.999207Z"
    }
   },
   "outputs": [
    {
     "name": "stdout",
     "output_type": "stream",
     "text": [
      "Length of Unique Rows:\n",
      "ex_id: 286792\n",
      "user_id: 137692\n",
      "prod_id: 923\n",
      "rating: 5\n",
      "label: 2\n"
     ]
    }
   ],
   "source": [
    "def unique_data_len(data, col_name):\n",
    "    return data[col_name].unique().__len__()\n",
    "\n",
    "print(\"Length of Unique Rows:\")\n",
    "for col in [\"ex_id\", \"user_id\", \"prod_id\", \"rating\", \"label\"]:\n",
    "    print(col + \": {}\".format(unique_data_len(data_raw, col)))"
   ]
  },
  {
   "cell_type": "markdown",
   "metadata": {},
   "source": [
    "### 2.2. Rating\n",
    "The \"rating\" column has 5 unique classes, 1 to 5.\n",
    "Most people gave positive ratings, 4 and 5."
   ]
  },
  {
   "cell_type": "code",
   "execution_count": 20,
   "metadata": {
    "ExecuteTime": {
     "end_time": "2020-05-07T12:03:51.434356Z",
     "start_time": "2020-05-07T12:03:51.423366Z"
    }
   },
   "outputs": [
    {
     "name": "stdout",
     "output_type": "stream",
     "text": [
      "     rating\n",
      "5.0  112518\n",
      "4.0  108145\n",
      "3.0   38026\n",
      "2.0   16603\n",
      "1.0   11500\n"
     ]
    }
   ],
   "source": [
    "rating_count = pd.DataFrame(data_raw[\"rating\"].value_counts())\n",
    "print(rating_count)"
   ]
  },
  {
   "cell_type": "code",
   "execution_count": 21,
   "metadata": {
    "ExecuteTime": {
     "end_time": "2020-05-07T12:05:18.296190Z",
     "start_time": "2020-05-07T12:05:18.137528Z"
    }
   },
   "outputs": [
    {
     "data": {
      "text/plain": [
       "<matplotlib.axes._subplots.AxesSubplot at 0x7fb2bdafb3c8>"
      ]
     },
     "execution_count": 21,
     "metadata": {},
     "output_type": "execute_result"
    },
    {
     "data": {
      "image/png": "[encoded data removed]",
      "text/plain": [
       "<Figure size 432x288 with 1 Axes>"
      ]
     },
     "metadata": {
      "needs_background": "light"
     },
     "output_type": "display_data"
    }
   ],
   "source": [
    "sns.barplot(x=rating_count.index, y=rating_count[\"rating\"])"
   ]
  },
  {
   "cell_type": "markdown",
   "metadata": {
    "ExecuteTime": {
     "end_time": "2020-05-07T12:05:03.739848Z",
     "start_time": "2020-05-07T12:05:03.735969Z"
    }
   },
   "source": [
    "### 2.3. Review\n",
    "The maximal length of reviews is 29012. The minimum is 1."
   ]
  },
  {
   "cell_type": "code",
   "execution_count": 22,
   "metadata": {
    "ExecuteTime": {
     "end_time": "2020-05-07T12:08:47.536483Z",
     "start_time": "2020-05-07T12:08:47.227933Z"
    }
   },
   "outputs": [
    {
     "name": "stdout",
     "output_type": "stream",
     "text": [
      "29012\n",
      "1\n"
     ]
    }
   ],
   "source": [
    "print(data_raw[\"review\"].apply(lambda row: len(row)).max())\n",
    "print(data_raw[\"review\"].apply(lambda row: len(row)).min())"
   ]
  },
  {
   "cell_type": "code",
   "execution_count": 23,
   "metadata": {
    "ExecuteTime": {
     "end_time": "2020-05-07T12:12:47.371991Z",
     "start_time": "2020-05-07T12:12:46.304789Z"
    },
    "scrolled": true
   },
   "outputs": [
    {
     "data": {
      "text/plain": [
       "<matplotlib.axes._subplots.AxesSubplot at 0x7fb2bdc9a898>"
      ]
     },
     "execution_count": 23,
     "metadata": {},
     "output_type": "execute_result"
    },
    {
     "data": {
      "image/png": "[encoded data removed]",
      "text/plain": [
       "<Figure size 432x288 with 1 Axes>"
      ]
     },
     "metadata": {
      "needs_background": "light"
     },
     "output_type": "display_data"
    }
   ],
   "source": [
    "sns.distplot(\n",
    "    data_raw[\"review\"].apply(lambda row: len(row)),\n",
    "    bins = 500\n",
    ")"
   ]
  },
  {
   "cell_type": "markdown",
   "metadata": {},
   "source": [
    "### 2.4. Label"
   ]
  },
  {
   "cell_type": "code",
   "execution_count": 24,
   "metadata": {
    "ExecuteTime": {
     "end_time": "2020-05-08T14:37:51.899196Z",
     "start_time": "2020-05-08T14:37:51.765547Z"
    }
   },
   "outputs": [
    {
     "data": {
      "text/plain": [
       "<matplotlib.axes._subplots.AxesSubplot at 0x7fb2bdcc9a58>"
      ]
     },
     "execution_count": 24,
     "metadata": {},
     "output_type": "execute_result"
    },
    {
     "data": {
      "image/png": "[encoded data removed]",
      "text/plain": [
       "<Figure size 432x288 with 1 Axes>"
      ]
     },
     "metadata": {
      "needs_background": "light"
     },
     "output_type": "display_data"
    }
   ],
   "source": [
    "sns.barplot(x=data_raw[\"label\"].value_counts().index, y=data_raw[\"label\"].value_counts().values)"
   ]
  },
  {
   "cell_type": "markdown",
   "metadata": {},
   "source": [
    "### 2.5. Label Vs. Rating"
   ]
  },
  {
   "cell_type": "code",
   "execution_count": 26,
   "metadata": {
    "ExecuteTime": {
     "end_time": "2020-05-08T14:47:48.597153Z",
     "start_time": "2020-05-08T14:47:48.420939Z"
    }
   },
   "outputs": [
    {
     "data": {
      "text/plain": [
       "<matplotlib.axes._subplots.AxesSubplot at 0x7fb2bcf684a8>"
      ]
     },
     "execution_count": 26,
     "metadata": {},
     "output_type": "execute_result"
    },
    {
     "data": {
      "image/png": "[encoded data removed]",
      "text/plain": [
       "<Figure size 432x288 with 1 Axes>"
      ]
     },
     "metadata": {
      "needs_background": "light"
     },
     "output_type": "display_data"
    }
   ],
   "source": [
    "sns.countplot(x=data_raw[\"rating\"], hue=data_raw[\"label\"])"
   ]
  },
  {
   "cell_type": "markdown",
   "metadata": {},
   "source": [
    "[Back to Top](#Top)\n",
    "<a id='Feature-Pre-processing'></a>\n",
    "## 3. Feature Pre-processing"
   ]
  },
  {
   "cell_type": "code",
   "execution_count": 27,
   "metadata": {},
   "outputs": [],
   "source": [
    "# 2014-12-08 (object) => 20141208 (int)\n",
    "data[\"date_int\"] = pd.to_datetime(data[\"date\"]).dt.strftime(\"%Y%m%d\").apply(pd.to_numeric)\n",
    "# How many seconds have passed since 1970-01-01\n",
    "data[\"date_offset\"] = (pd.to_datetime(data[\"date\"]) - pd.to_datetime('1970-01-01')).dt.total_seconds().astype(int)"
   ]
  },
  {
   "cell_type": "code",
   "execution_count": 28,
   "metadata": {},
   "outputs": [],
   "source": [
    "# Check holidays and weekends\n",
    "from pandas.tseries.holiday import USFederalHolidayCalendar as calendar\n",
    "cal = calendar()\n",
    "holidays = cal.holidays(start=data['date'].min(), end=data['date'].max())\n",
    "data['holiday'] = pd.DatetimeIndex(data['date']).isin(holidays)\n",
    "data['weekend'] = pd.to_datetime(data[\"date\"]).dt.dayofweek\n",
    "data['weekend'] = data['weekend'] >= 5"
   ]
  },
  {
   "cell_type": "code",
   "execution_count": 29,
   "metadata": {},
   "outputs": [],
   "source": [
    "# a spammer is a user with more than 0 fake reviews\n",
    "df_spammer = data[['user_id','label']].groupby(\"user_id\").sum().apply(lambda x: x>0).reset_index()\n",
    "df_spammer.rename(columns = {'label':'spammer'}, inplace = True)\n",
    "data = data.merge(df_spammer)"
   ]
  },
  {
   "cell_type": "code",
   "execution_count": 30,
   "metadata": {},
   "outputs": [],
   "source": [
    "# count how many reviews per user per day\n",
    "df_dailyreview = data[['user_id','date']].groupby(['user_id','date']).size().to_frame('size').reset_index()\n",
    "# max reviews per day\n",
    "df_dailyreview['max_daily_review'] = df_dailyreview[['user_id', 'size']].groupby(['user_id']).transform('max')\n",
    "# avg reviews per day\n",
    "df_dailyreview['avg_daily_review'] = df_dailyreview[['user_id', 'size']].groupby(['user_id']).transform('mean')\n",
    "df_newdailyreview = df_dailyreview[['user_id', 'max_daily_review', 'avg_daily_review']].drop_duplicates(['user_id'])\n",
    "data = data.merge(df_newdailyreview)"
   ]
  },
  {
   "cell_type": "code",
   "execution_count": 31,
   "metadata": {},
   "outputs": [],
   "source": [
    "# super slow !@#$%^&*()$#@!@#@\n",
    "# % positive reviews per user\n",
    "data['pos_review_rate'] = data[['user_id','rating']].groupby(['user_id']).transform(lambda x: len(x[x >= 4]) / len(x))\n",
    "# % negative reviews per user\n",
    "data['neg_review_rate'] = data[['user_id','rating']].groupby(['user_id']).transform(lambda x: len(x[x <= 1]) / len(x))"
   ]
  },
  {
   "cell_type": "code",
   "execution_count": 32,
   "metadata": {},
   "outputs": [],
   "source": [
    "# number of rating per user\n",
    "data['num_user_rating'] = data[['user_id','rating']].groupby(['user_id']).transform('count')\n",
    "# number of rating per product\n",
    "data['num_prod_rating'] = data[['prod_id','rating']].groupby(['prod_id']).transform('count')\n",
    "# summation of rating per product\n",
    "data['sum_prod_rating'] = data[['prod_id','rating']].groupby(['prod_id']).transform('sum')\n",
    "# compute absolute deviation from the average product rating for each review\n",
    "# Formula from \"Spotting Opinion Spammers using Behavioral Footprints\"\n",
    "data['review_dev'] = data[['rating','num_prod_rating', 'sum_prod_rating']].apply(\n",
    "    lambda x: np.abs(x.rating - (x.sum_prod_rating - x.rating) / (x.num_prod_rating - 1)) / 4, axis=1)\n",
    "# compute mean deviation per user\n",
    "data['avg_user_dev'] = data[['user_id','review_dev']].groupby(['user_id']).transform('mean')"
   ]
  },
  {
   "cell_type": "code",
   "execution_count": 33,
   "metadata": {},
   "outputs": [],
   "source": [
    "# First review date for each product\n",
    "data['first_review_prod'] = data[['prod_id','date_offset']].groupby(['prod_id']).transform('min')\n",
    "# Reviews written with the first 7 months\n",
    "data['early_time_frame'] = data[['first_review_prod','date_offset']].apply(\n",
    "    lambda x: np.maximum(0, 1 - (x.date_offset - x.first_review_prod) // 86400 / (7 * 30)), axis=1)"
   ]
  },
  {
   "cell_type": "code",
   "execution_count": 34,
   "metadata": {},
   "outputs": [],
   "source": [
    "# First review date for each user\n",
    "data['first_review_user'] = data[['user_id','date_offset']].groupby(['user_id']).transform('min')\n",
    "data['last_review_user'] = data[['user_id','date_offset']].groupby(['user_id']).transform('max')\n",
    "# All reviews written in 28 days\n",
    "data['burstiness'] = data[['first_review_user','last_review_user']].apply(\n",
    "    lambda x: np.maximum(0, 1 - (x.last_review_user - x.first_review_user) // 86400 / 28), axis=1)"
   ]
  },
  {
   "cell_type": "code",
   "execution_count": 35,
   "metadata": {},
   "outputs": [],
   "source": [
    "# Review length related features\n",
    "data[\"review_len\"] = data[\"review\"].apply(lambda row: len(row))\n",
    "data['avg_user_len'] = data[['user_id','review_len']].groupby(['user_id']).transform('mean')\n",
    "data['var_user_len'] = data[['user_id','review_len']].groupby(['user_id']).transform('var')"
   ]
  },
  {
   "cell_type": "code",
   "execution_count": 36,
   "metadata": {},
   "outputs": [],
   "source": [
    "from sklearn.metrics.pairwise import cosine_similarity\n",
    "from sklearn.metrics import pairwise_distances\n",
    "import warnings\n",
    "from sklearn.exceptions import DataConversionWarning\n",
    "from scipy.sparse import csr_matrix\n",
    "warnings.filterwarnings(action='ignore', category=DataConversionWarning)\n",
    "\n",
    "def content_similarity(x, dist_name='cosine'):\n",
    "    x_2d = np.array(x.values.tolist())\n",
    "    dist_func = cosine_similarity\n",
    "    if len(x_2d) <= 1:\n",
    "        return 0\n",
    "    # remove the self-similarities on the diagonal\n",
    "    if dist_name == 'cosine':\n",
    "        return (np.sum(cosine_similarity(x_2d, x_2d)) - len(x_2d)) / (len(x_2d) ** 2 - len(x_2d))\n",
    "    else:\n",
    "        return (np.sum(pairwise_distances(x_2d, x_2d, metric=dist_name)) - len(x_2d)) / (len(x_2d) ** 2 - len(x_2d))"
   ]
  },
  {
   "cell_type": "code",
   "execution_count": 37,
   "metadata": {},
   "outputs": [],
   "source": [
    "train_glove = np.load('train_embedding_glove_50d_282.npy')\n",
    "test_glove = np.load('test_embedding_glove_50d_282.npy')\n",
    "exid = pd.concat([train, val, test])[['ex_id']]\n",
    "exid['glove_50d'] = list(train_glove)+list(test_glove)\n",
    "train_bow = np.load('train_BOW_500_1gram.npy', allow_pickle=True).item()\n",
    "test_bow = np.load('test_BOW_500_1gram.npy', allow_pickle=True).item()\n",
    "train_bow = np.asarray(csr_matrix.todense(train_bow))\n",
    "test_bow = np.asarray(csr_matrix.todense(test_bow))                                  \n",
    "exid['bow_500d'] = list(train_bow)+list(test_bow)\n",
    "data = data.merge(exid)\n",
    "\n",
    "data['cosine_similarity'] = data[['user_id', 'glove_50d']].groupby(['user_id']).transform(lambda x: content_similarity(x))\n",
    "data['jaccard_similarity'] = data[['user_id', 'bow_500d']].groupby(['user_id']).transform(lambda x: content_similarity(x, 'jaccard'))"
   ]
  },
  {
   "cell_type": "code",
   "execution_count": 38,
   "metadata": {},
   "outputs": [],
   "source": [
    "data.to_pickle('data.pickle')\n",
    "#data = pd.read_pickle('data.pickle')"
   ]
  },
  {
   "cell_type": "code",
   "execution_count": 44,
   "metadata": {},
   "outputs": [
    {
     "data": {
      "text/plain": [
       "label            72165\n",
       "var_user_len    105986\n",
       "dtype: int64"
      ]
     },
     "execution_count": 44,
     "metadata": {},
     "output_type": "execute_result"
    }
   ],
   "source": [
    "data_nan = data.isna().sum()\n",
    "data_nan[data_nan != 0]"
   ]
  },
  {
   "cell_type": "markdown",
   "metadata": {},
   "source": [
    "[Back to Top](#Top)\n",
    "<a id='Pre-processed-Feature-Visualization'></a>\n",
    "## 4. Pre-processed Feature Visualization\n",
    "### 4.1 Reviews Length Vs. Label"
   ]
  },
  {
   "cell_type": "code",
   "execution_count": 40,
   "metadata": {
    "ExecuteTime": {
     "end_time": "2020-05-08T15:17:46.324854Z",
     "start_time": "2020-05-08T15:17:45.927700Z"
    },
    "scrolled": true
   },
   "outputs": [
    {
     "data": {
      "text/plain": [
       "<matplotlib.legend.Legend at 0x7fb298b10c50>"
      ]
     },
     "execution_count": 40,
     "metadata": {},
     "output_type": "execute_result"
    },
    {
     "data": {
      "image/png": "[encoded data removed]",
      "text/plain": [
       "<Figure size 432x288 with 1 Axes>"
      ]
     },
     "metadata": {
      "needs_background": "light"
     },
     "output_type": "display_data"
    }
   ],
   "source": [
    "# Ignore review_len > 5000\n",
    "sns.distplot(data.loc[(data[\"review_len\"]<5000) & (data[\"label\"]==1),\"review_len\"], label=\"label: 1\")\n",
    "sns.distplot(data.loc[(data[\"review_len\"]<5000) & (data[\"label\"]==0),\"review_len\"], label=\"label: 0\")\n",
    "plt.legend()"
   ]
  },
  {
   "cell_type": "markdown",
   "metadata": {},
   "source": [
    "### 4.2 Mean/Var of Reviews Length"
   ]
  },
  {
   "cell_type": "code",
   "execution_count": 41,
   "metadata": {},
   "outputs": [
    {
     "data": {
      "image/png": "[encoded data removed]",
      "text/plain": [
       "<Figure size 432x288 with 1 Axes>"
      ]
     },
     "metadata": {
      "needs_background": "light"
     },
     "output_type": "display_data"
    },
    {
     "data": {
      "image/png": "[encoded data removed]",
      "text/plain": [
       "<Figure size 432x288 with 1 Axes>"
      ]
     },
     "metadata": {
      "needs_background": "light"
     },
     "output_type": "display_data"
    },
    {
     "data": {
      "image/png": "[encoded data removed]",
      "text/plain": [
       "<Figure size 432x288 with 1 Axes>"
      ]
     },
     "metadata": {
      "needs_background": "light"
     },
     "output_type": "display_data"
    }
   ],
   "source": [
    "for label in [0, 1]:\n",
    "    sns.distplot(\n",
    "        data[data['label'] == label].drop_duplicates([\"user_id\"])['avg_user_len'],\n",
    "        bins = 50\n",
    "    )\n",
    "\n",
    "for label in [0, 1]:   \n",
    "    plt.figure()\n",
    "    grid = sns.distplot(data[data['label'] == label].drop_duplicates(\n",
    "        [\"user_id\"])['var_user_len'].dropna(), hist=False, rug=True, rug_kws={\"color\": \"C1\"})\n",
    "    grid.set(xscale=\"log\")"
   ]
  },
  {
   "cell_type": "markdown",
   "metadata": {},
   "source": [
    "### 4.3 Other Per-user Features"
   ]
  },
  {
   "cell_type": "code",
   "execution_count": 45,
   "metadata": {},
   "outputs": [
    {
     "data": {
      "image/png": "[encoded data removed]",
      "text/plain": [
       "<Figure size 432x288 with 1 Axes>"
      ]
     },
     "metadata": {
      "needs_background": "light"
     },
     "output_type": "display_data"
    },
    {
     "data": {
      "image/png": "[encoded data removed]",
      "text/plain": [
       "<Figure size 432x288 with 1 Axes>"
      ]
     },
     "metadata": {
      "needs_background": "light"
     },
     "output_type": "display_data"
    },
    {
     "data": {
      "image/png": "[encoded data removed]",
      "text/plain": [
       "<Figure size 432x288 with 1 Axes>"
      ]
     },
     "metadata": {
      "needs_background": "light"
     },
     "output_type": "display_data"
    },
    {
     "data": {
      "image/png": "[encoded data removed]",
      "text/plain": [
       "<Figure size 432x288 with 1 Axes>"
      ]
     },
     "metadata": {
      "needs_background": "light"
     },
     "output_type": "display_data"
    },
    {
     "data": {
      "image/png": "[encoded data removed]",
      "text/plain": [
       "<Figure size 432x288 with 1 Axes>"
      ]
     },
     "metadata": {
      "needs_background": "light"
     },
     "output_type": "display_data"
    },
    {
     "data": {
      "image/png": "[encoded data removed]",
      "text/plain": [
       "<Figure size 432x288 with 1 Axes>"
      ]
     },
     "metadata": {
      "needs_background": "light"
     },
     "output_type": "display_data"
    }
   ],
   "source": [
    "per_user_features = ['num_user_rating', 'max_daily_review', 'avg_daily_review', \n",
    "                     'pos_review_rate', 'neg_review_rate', 'avg_user_dev']\n",
    "\n",
    "for f in per_user_features:\n",
    "    plt.figure()\n",
    "    sns.distplot(\n",
    "        data.drop_duplicates([\"user_id\"])[f],\n",
    "        bins = 50\n",
    "    )"
   ]
  },
  {
   "cell_type": "markdown",
   "metadata": {},
   "source": [
    "[Back to Top](#Top)\n",
    "<a id='Model-Tuning'></a>\n",
    "## 5. Model Tuning"
   ]
  },
  {
   "cell_type": "code",
   "execution_count": 51,
   "metadata": {},
   "outputs": [],
   "source": [
    "from sklearn.compose import ColumnTransformer, make_column_transformer\n",
    "from sklearn.linear_model import LogisticRegression\n",
    "from sklearn.metrics import accuracy_score, roc_auc_score, average_precision_score, recall_score, precision_score\n",
    "from sklearn.model_selection import GridSearchCV, train_test_split\n",
    "#from sklearn.pipeline import Pipeline, make_pipeline\n",
    "from sklearn.preprocessing import LabelEncoder, OneHotEncoder, StandardScaler, QuantileTransformer\n",
    "from sklearn.svm import SVC, LinearSVC\n",
    "from sklearn.naive_bayes import GaussianNB"
   ]
  },
  {
   "cell_type": "code",
   "execution_count": 52,
   "metadata": {},
   "outputs": [],
   "source": [
    "from imblearn.pipeline import make_pipeline\n",
    "from imblearn.under_sampling import RandomUnderSampler\n",
    "from imblearn.over_sampling import RandomOverSampler, SMOTE \n",
    "from imblearn.ensemble import BalancedBaggingClassifier \n",
    "import xgboost as xgb\n",
    "from xgboost import XGBClassifier"
   ]
  },
  {
   "cell_type": "code",
   "execution_count": 83,
   "metadata": {},
   "outputs": [],
   "source": [
    "def evaluate(model, X_test, y_test):\n",
    "    y_scores = model.predict_proba(X_test)[:,1]\n",
    "    for m in [average_precision_score, roc_auc_score]:\n",
    "        print(\"{}: {}\".format(m.__name__, m(y_test, y_scores)))\n",
    "    y_scores = model.predict(X_test)\n",
    "    for m in [precision_score, recall_score, accuracy_score]:\n",
    "        print(\"{}: {}\".format(m.__name__, m(y_test, y_scores)))"
   ]
  },
  {
   "cell_type": "code",
   "execution_count": 158,
   "metadata": {},
   "outputs": [],
   "source": [
    "def get_model(model_name, resampler=None, param_grid=None, new_arg=None):\n",
    "    model = None\n",
    "    \n",
    "    # models with default parameters\n",
    "    if model_name == 'LR':\n",
    "        model = LogisticRegression(C=1, class_weight='balanced')\n",
    "    elif model_name == 'SVC':\n",
    "        model = SVC(C=10, class_weight='balanced', gamma=10**-0.5)\n",
    "    elif model_name == 'NB':\n",
    "        model = GaussianNB()\n",
    "    elif model_name == 'XGB':\n",
    "        model = XGBClassifier(learning_rate=0.1, max_depth=6, n_estimators=1000, \n",
    "                        scale_pos_weight=POS_WEIGHT, max_delta_step=10, eval_metric='auc')\n",
    "        \n",
    "    if new_arg:\n",
    "        model.set_params(**new_arg)\n",
    "    \n",
    "    # Should not re-weight classes if using an over/under-sampler \n",
    "    if resampler:\n",
    "        if model_name in ['LR', 'SVC']:\n",
    "            model.set_params(class_weight = None)\n",
    "        elif model_name in ['XGB']:\n",
    "            model.set_params(scale_pos_weight = None)\n",
    "        model = make_pipeline(\n",
    "            resampler,\n",
    "            model\n",
    "        ) \n",
    "        \n",
    "    if param_grid:\n",
    "        scoring = {'AUC': 'roc_auc', 'AP': 'average_precision'}\n",
    "        if resampler:\n",
    "            model_infix = model.steps[1][0] + '__'\n",
    "            old_keys = list(param_grid.keys())\n",
    "            for k in old_keys:\n",
    "                param_grid[model_infix + k] = param_grid.pop(k, None)\n",
    "        model = GridSearchCV(model,\n",
    "             param_grid=param_grid,\n",
    "             cv=3,\n",
    "             scoring=scoring,\n",
    "             refit='AUC')\n",
    "        \n",
    "    return model"
   ]
  },
  {
   "cell_type": "code",
   "execution_count": 150,
   "metadata": {},
   "outputs": [],
   "source": [
    "skewed_features = ['review_len', 'num_user_rating', 'max_daily_review', 'avg_daily_review', 'avg_user_len']\n",
    "std_features = skewed_features + ['rating', 'var_user_len']\n",
    "used_features = std_features + ['pos_review_rate', 'neg_review_rate', 'review_dev', 'avg_user_dev', \n",
    "                                'holiday', 'weekend', 'cosine_similarity', 'jaccard_similarity']\n",
    "\n",
    "data_training = data[data['set'] != 'test'][used_features].copy()\n",
    "data_training.fillna(0, inplace=True)\n",
    "\n",
    "for f in skewed_features:\n",
    "    data_training[f] = np.log(data_training[f])\n",
    "\n",
    "labels = data[data['set'] != 'test'][['label']].values.ravel()\n",
    "\n",
    "use_bow = True\n",
    "if use_bow:\n",
    "    data_training = np.concatenate((data_training, np.array(data[data['set'] != 'test']['bow_500d'].values.tolist())), 1)\n",
    "    std_features = np.arange(7) # data_training became numpy array\n",
    "    \n",
    "X_train, X_val, y_train, y_val = train_test_split(data_training, labels, test_size=0.2, random_state=0)\n",
    "\n",
    "# columnss to standardize\n",
    "standardization = make_column_transformer(\n",
    "    (StandardScaler(), std_features),\n",
    "    remainder='passthrough'\n",
    ")\n",
    "\n",
    "standardization.fit(X_train)\n",
    "X_train = standardization.transform(X_train)\n",
    "X_val = standardization.transform(X_val)\n",
    "\n",
    "POS_WEIGHT = len(y_train[y_train==0])/len(y_train[y_train==1])"
   ]
  },
  {
   "cell_type": "code",
   "execution_count": null,
   "metadata": {},
   "outputs": [],
   "source": [
    "model = get_model('XGB', param_grid = {'learning_rate': [0.1], 'max_depth': [7, 8, 9], \n",
    "                        'max_delta_step': [0], 'n_estimators': [1500], 'colsample_bytree': [0.7, 0.8, 0.9],\n",
    "                        'subsample': [0.8, 1]})\n",
    "model.fit(X_train, y_train)\n",
    "evaluate(model, X_val, y_val)\n",
    "model.best_params_"
   ]
  },
  {
   "cell_type": "markdown",
   "metadata": {},
   "source": [
    "### Example of Usage\n",
    "Training with default parameters "
   ]
  },
  {
   "cell_type": "code",
   "execution_count": 134,
   "metadata": {},
   "outputs": [
    {
     "name": "stdout",
     "output_type": "stream",
     "text": [
      "average_precision_score: 0.4227471461125748\n",
      "roc_auc_score: 0.8678166367767061\n",
      "precision_score: 0.2657866015279871\n",
      "recall_score: 0.8776385790286597\n",
      "accuracy_score: 0.741278613643892\n"
     ]
    }
   ],
   "source": [
    "model = get_model('XGB')\n",
    "model.fit(X_train, y_train)\n",
    "evaluate(model, X_val, y_val)"
   ]
  },
  {
   "cell_type": "markdown",
   "metadata": {},
   "source": [
    "Training with new parameters"
   ]
  },
  {
   "cell_type": "code",
   "execution_count": 120,
   "metadata": {},
   "outputs": [
    {
     "name": "stdout",
     "output_type": "stream",
     "text": [
      "average_precision_score: 0.37502052451565077\n",
      "roc_auc_score: 0.848973662861464\n",
      "precision_score: 0.24044152184124\n",
      "recall_score: 0.8784966535095247\n",
      "accuracy_score: 0.7057305741034536\n"
     ]
    }
   ],
   "source": [
    "model = get_model('XGB', new_arg={'max_depth': 4})\n",
    "model.fit(X_train, y_train)\n",
    "evaluate(model, X_val, y_val)"
   ]
  },
  {
   "cell_type": "markdown",
   "metadata": {},
   "source": [
    "Training with resampler"
   ]
  },
  {
   "cell_type": "code",
   "execution_count": 122,
   "metadata": {},
   "outputs": [
    {
     "name": "stdout",
     "output_type": "stream",
     "text": [
      "average_precision_score: 0.4213968505738366\n",
      "roc_auc_score: 0.8671136624386545\n",
      "precision_score: 0.26540656578878474\n",
      "recall_score: 0.8699159087008752\n",
      "accuracy_score: 0.7421851845394795\n"
     ]
    }
   ],
   "source": [
    "model = get_model('XGB', resampler=RandomOverSampler())\n",
    "model.fit(X_train, y_train)\n",
    "evaluate(model, X_val, y_val)"
   ]
  },
  {
   "cell_type": "markdown",
   "metadata": {},
   "source": [
    "Performing grid search with resampler"
   ]
  },
  {
   "cell_type": "code",
   "execution_count": 149,
   "metadata": {},
   "outputs": [
    {
     "name": "stdout",
     "output_type": "stream",
     "text": [
      "average_precision_score: 0.26756529871609974\n",
      "roc_auc_score: 0.7966161983041763\n",
      "precision_score: 0.2135154893539249\n",
      "recall_score: 0.8019564098163721\n",
      "accuracy_score: 0.6797886992451054\n"
     ]
    },
    {
     "data": {
      "text/plain": [
       "{'logisticregression__C': 1.0}"
      ]
     },
     "execution_count": 149,
     "metadata": {},
     "output_type": "execute_result"
    }
   ],
   "source": [
    "model = get_model('LR', resampler=RandomUnderSampler(), param_grid = {'C':10.0 ** np.array([0, -0.5, -1]),})\n",
    "model.fit(X_train, y_train)\n",
    "evaluate(model, X_val, y_val)\n",
    "model.best_params_"
   ]
  },
  {
   "cell_type": "code",
   "execution_count": 135,
   "metadata": {},
   "outputs": [
    {
     "data": {
      "image/png": "[encoded data removed]",
      "text/plain": [
       "<Figure size 432x288 with 1 Axes>"
      ]
     },
     "metadata": {
      "needs_background": "light"
     },
     "output_type": "display_data"
    }
   ],
   "source": [
    "from sklearn.metrics import roc_curve, auc\n",
    "fpr, tpr, threshold = roc_curve(y_val, model.predict_proba(X_val)[:,1])\n",
    "roc_auc = auc(fpr, tpr)\n",
    "plt.title('Receiver Operating Characteristic')\n",
    "plt.plot(fpr, tpr, 'b', label = 'AUC = %0.2f' % roc_auc)\n",
    "plt.legend(loc = 'lower right')\n",
    "plt.plot([0, 1], [0, 1],'r--')\n",
    "plt.xlim([0, 1])\n",
    "plt.ylim([0, 1])\n",
    "plt.ylabel('True Positive Rate')\n",
    "plt.xlabel('False Positive Rate')\n",
    "plt.show()"
   ]
  },
  {
   "cell_type": "markdown",
   "metadata": {},
   "source": [
    "[Back to Top](#Top)\n",
    "<a id='Training-with-Full-Dataset'></a>\n",
    "## 6. Training with Full Dataset"
   ]
  },
  {
   "cell_type": "code",
   "execution_count": 128,
   "metadata": {},
   "outputs": [
    {
     "data": {
      "text/plain": [
       "Pipeline(memory=None,\n",
       "         steps=[('randomoversampler',\n",
       "                 RandomOverSampler(random_state=None,\n",
       "                                   sampling_strategy='auto')),\n",
       "                ('xgbclassifier',\n",
       "                 XGBClassifier(base_score=0.5, booster='gbtree',\n",
       "                               colsample_bylevel=1, colsample_bynode=1,\n",
       "                               colsample_bytree=1, eval_metric='auc', gamma=0,\n",
       "                               gpu_id=-1, importance_type='gain',\n",
       "                               interaction_constraints='', learning_rate=0.1,\n",
       "                               max_delta_step=10, max_depth=6,\n",
       "                               min_child_weight=1, missing=nan,\n",
       "                               monotone_constraints='()', n_estimators=1500,\n",
       "                               n_jobs=0, num_parallel_tree=1,\n",
       "                               objective='binary:logistic', random_state=0,\n",
       "                               reg_alpha=0, reg_lambda=1, scale_pos_weight=1,\n",
       "                               subsample=1, tree_method='exact',\n",
       "                               validate_parameters=1, verbosity=None))],\n",
       "         verbose=False)"
      ]
     },
     "execution_count": 128,
     "metadata": {},
     "output_type": "execute_result"
    }
   ],
   "source": [
    "X_train_val = data[data['set'] != 'test'][used_features].copy()\n",
    "y_train_val = data[data['set'] != 'test']['label'].copy()\n",
    "X_train_val.fillna(0, inplace=True)\n",
    "X_test = data[data['set'] == 'test'].sort_values('ex_id')[used_features].copy()\n",
    "X_test.fillna(0, inplace=True)\n",
    "\n",
    "for f in skewed_features:\n",
    "    X_train_val[f] = np.log(X_train_val[f])\n",
    "    X_test[f] = np.log(X_test[f])\n",
    "    \n",
    "standardization = make_column_transformer(\n",
    "    (StandardScaler(), std_features),\n",
    "    remainder='passthrough'\n",
    ")\n",
    "\n",
    "standardization.fit(X_train_val)\n",
    "X_train_val = standardization.transform(X_train_val)\n",
    "X_test = standardization.transform(X_test)\n",
    "\n",
    "\n",
    "xgb_pipline = get_model('XGB', resampler=RandomOverSampler(), new_arg={'n_estimators': 1500})\n",
    "xgb_pipline.fit(X_train_val, y_train_val)"
   ]
  },
  {
   "cell_type": "code",
   "execution_count": 129,
   "metadata": {},
   "outputs": [
    {
     "name": "stdout",
     "output_type": "stream",
     "text": [
      "average_precision_score: 0.6320931895836759\n",
      "roc_auc_score: 0.9335119955672436\n",
      "precision_score: 0.30978671749385067\n",
      "recall_score: 0.9873078358842095\n",
      "accuracy_score: 0.7726784568607213\n"
     ]
    }
   ],
   "source": [
    "evaluate(xgb_pipline, X_train_val, y_train_val)\n",
    "y_scores = xgb_pipline.predict_proba(X_test)[:,1]\n",
    "#np.savetxt(\"predictions.csv\", y_scores, delimiter=\",\")"
   ]
  },
  {
   "cell_type": "markdown",
   "metadata": {},
   "source": [
    "[Back to Top](#Top)"
   ]
  }
 ],
 "metadata": {
  "kernelspec": {
   "display_name": "Python 3",
   "language": "python",
   "name": "python3"
  },
  "language_info": {
   "codemirror_mode": {
    "name": "ipython",
    "version": 3
   },
   "file_extension": ".py",
   "mimetype": "text/x-python",
   "name": "python",
   "nbconvert_exporter": "python",
   "pygments_lexer": "ipython3",
   "version": "3.6.8"
  },
  "latex_envs": {
   "LaTeX_envs_menu_present": true,
   "autoclose": false,
   "autocomplete": true,
   "bibliofile": "biblio.bib",
   "cite_by": "apalike",
   "current_citInitial": 1,
   "eqLabelWithNumbers": true,
   "eqNumInitial": 1,
   "hotkeys": {
    "equation": "Ctrl-E",
    "itemize": "Ctrl-I"
   },
   "labels_anchors": false,
   "latex_user_defs": false,
   "report_style_numbering": false,
   "user_envs_cfg": false
  },
  "varInspector": {
   "cols": {
    "lenName": 16,
    "lenType": 16,
    "lenVar": 40
   },
   "kernels_config": {
    "python": {
     "delete_cmd_postfix": "",
     "delete_cmd_prefix": "del ",
     "library": "var_list.py",
     "varRefreshCmd": "print(var_dic_list())"
    },
    "r": {
     "delete_cmd_postfix": ") ",
     "delete_cmd_prefix": "rm(",
     "library": "var_list.r",
     "varRefreshCmd": "cat(var_dic_list()) "
    }
   },
   "types_to_exclude": [
    "module",
    "function",
    "builtin_function_or_method",
    "instance",
    "_Feature"
   ],
   "window_display": false
  }
 },
 "nbformat": 4,
 "nbformat_minor": 2
}
